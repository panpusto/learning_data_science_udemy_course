{
 "cells": [
  {
   "cell_type": "code",
   "execution_count": 2,
   "id": "16f57603",
   "metadata": {},
   "outputs": [],
   "source": [
    "import pandas as pd"
   ]
  },
  {
   "cell_type": "markdown",
   "id": "8fe74373",
   "metadata": {},
   "source": [
    "# Stack Overflow Developer Survey 2018 - salary"
   ]
  },
  {
   "cell_type": "code",
   "execution_count": 3,
   "id": "a1c86a6b",
   "metadata": {},
   "outputs": [
    {
     "data": {
      "text/plain": [
       "1     51000\n",
       "4    260000\n",
       "5     30000\n",
       "6    120000\n",
       "8    250000\n",
       "Name: Salary, dtype: object"
      ]
     },
     "execution_count": 3,
     "metadata": {},
     "output_type": "execute_result"
    }
   ],
   "source": [
    "surveys = pd.read_csv('../stack-overflow-developer-survey-2018/survey_results_public.csv', \n",
    "                      usecols=['Salary'],\n",
    "                      low_memory=False).squeeze().dropna()\n",
    "surveys.head()"
   ]
  },
  {
   "cell_type": "markdown",
   "id": "b16ab2c2",
   "metadata": {},
   "source": [
    "## number of people who gave information about salary"
   ]
  },
  {
   "cell_type": "code",
   "execution_count": 4,
   "id": "8505696b",
   "metadata": {},
   "outputs": [
    {
     "data": {
      "text/plain": [
       "50578"
      ]
     },
     "execution_count": 4,
     "metadata": {},
     "output_type": "execute_result"
    }
   ],
   "source": [
    "surveys.count()"
   ]
  },
  {
   "cell_type": "markdown",
   "id": "9ea13d7c",
   "metadata": {},
   "source": [
    "### formatting data to float"
   ]
  },
  {
   "cell_type": "code",
   "execution_count": 5,
   "id": "0cac739f",
   "metadata": {},
   "outputs": [],
   "source": [
    "surveys = surveys.apply(lambda x: x.replace(',', ''))"
   ]
  },
  {
   "cell_type": "code",
   "execution_count": 6,
   "id": "df48b90e",
   "metadata": {},
   "outputs": [],
   "source": [
    "surveysAsFloat = surveys.astype('float')"
   ]
  },
  {
   "cell_type": "markdown",
   "id": "eb4509c8",
   "metadata": {},
   "source": [
    "### increasing series values"
   ]
  },
  {
   "cell_type": "code",
   "execution_count": 7,
   "id": "3e350193",
   "metadata": {},
   "outputs": [],
   "source": [
    "surveysIncrease = surveysAsFloat * 0.03"
   ]
  },
  {
   "cell_type": "code",
   "execution_count": 9,
   "id": "e24f287c",
   "metadata": {},
   "outputs": [],
   "source": [
    "surveysAfterIncrease = surveysAsFloat + surveysIncrease"
   ]
  },
  {
   "cell_type": "code",
   "execution_count": 10,
   "id": "c4b98144",
   "metadata": {},
   "outputs": [
    {
     "data": {
      "text/plain": [
       "1     52530.0\n",
       "4    267800.0\n",
       "5     30900.0\n",
       "6    123600.0\n",
       "8    257500.0\n",
       "Name: Salary, dtype: float64"
      ]
     },
     "execution_count": 10,
     "metadata": {},
     "output_type": "execute_result"
    }
   ],
   "source": [
    "surveysAfterIncrease.head()"
   ]
  },
  {
   "cell_type": "markdown",
   "id": "3eee66ba",
   "metadata": {},
   "source": [
    "# Stack Overflow Developer Survey 2018 - hours outside"
   ]
  },
  {
   "cell_type": "code",
   "execution_count": 11,
   "id": "0d57e920",
   "metadata": {},
   "outputs": [
    {
     "data": {
      "text/plain": [
       "0             1 - 2 hours\n",
       "1         30 - 59 minutes\n",
       "3    Less than 30 minutes\n",
       "4             1 - 2 hours\n",
       "5         30 - 59 minutes\n",
       "Name: HoursOutside, dtype: object"
      ]
     },
     "execution_count": 11,
     "metadata": {},
     "output_type": "execute_result"
    }
   ],
   "source": [
    "surveysTime = pd.read_csv('../stack-overflow-developer-survey-2018/survey_results_public.csv', \n",
    "                          usecols=['HoursOutside'], \n",
    "                          low_memory=False).squeeze().dropna()\n",
    "surveysTime.head()"
   ]
  },
  {
   "cell_type": "code",
   "execution_count": 12,
   "id": "a87ca627",
   "metadata": {},
   "outputs": [
    {
     "data": {
      "text/plain": [
       "1 - 2 hours             27788\n",
       "30 - 59 minutes         24002\n",
       "Less than 30 minutes    11223\n",
       "3 - 4 hours              7186\n",
       "Over 4 hours             1825\n",
       "Name: HoursOutside, dtype: int64"
      ]
     },
     "execution_count": 12,
     "metadata": {},
     "output_type": "execute_result"
    }
   ],
   "source": [
    "surveysTime.value_counts()"
   ]
  },
  {
   "cell_type": "markdown",
   "id": "2857cf3d",
   "metadata": {},
   "source": [
    "### data normalization with uppercase/lowercase"
   ]
  },
  {
   "cell_type": "code",
   "execution_count": 13,
   "id": "90894a1a",
   "metadata": {},
   "outputs": [],
   "source": [
    "surveysTime = surveysTime.str.lower()"
   ]
  },
  {
   "cell_type": "code",
   "execution_count": 14,
   "id": "9f57b5a6",
   "metadata": {},
   "outputs": [
    {
     "data": {
      "text/plain": [
       "0             1 - 2 hours\n",
       "1         30 - 59 minutes\n",
       "3    less than 30 minutes\n",
       "4             1 - 2 hours\n",
       "5         30 - 59 minutes\n",
       "Name: HoursOutside, dtype: object"
      ]
     },
     "execution_count": 14,
     "metadata": {},
     "output_type": "execute_result"
    }
   ],
   "source": [
    "surveysTime.head()"
   ]
  },
  {
   "cell_type": "code",
   "execution_count": 17,
   "id": "0d30ba43",
   "metadata": {},
   "outputs": [
    {
     "data": {
      "text/plain": [
       "0             1 - 2 HOURS\n",
       "1         30 - 59 MINUTES\n",
       "3    LESS THAN 30 MINUTES\n",
       "4             1 - 2 HOURS\n",
       "5         30 - 59 MINUTES\n",
       "Name: HoursOutside, dtype: object"
      ]
     },
     "execution_count": 17,
     "metadata": {},
     "output_type": "execute_result"
    }
   ],
   "source": [
    "surveysTime = surveysTime.apply(lambda char: char.upper())\n",
    "surveysTime.head()"
   ]
  },
  {
   "cell_type": "markdown",
   "id": "4786d87f",
   "metadata": {},
   "source": [
    "that function change value's description in data series"
   ]
  },
  {
   "cell_type": "code",
   "execution_count": 18,
   "id": "d8e1d581",
   "metadata": {},
   "outputs": [],
   "source": [
    "def change_description(x):\n",
    "    if 'LESS THAN 30 MINUTES' in x:\n",
    "        return 'LESS THAN HALF HOUR'\n",
    "    else:\n",
    "        return x"
   ]
  },
  {
   "cell_type": "code",
   "execution_count": 19,
   "id": "596568ee",
   "metadata": {},
   "outputs": [
    {
     "data": {
      "text/plain": [
       "0            1 - 2 HOURS\n",
       "1        30 - 59 MINUTES\n",
       "3    LESS THAN HALF HOUR\n",
       "4            1 - 2 HOURS\n",
       "5        30 - 59 MINUTES\n",
       "Name: HoursOutside, dtype: object"
      ]
     },
     "execution_count": 19,
     "metadata": {},
     "output_type": "execute_result"
    }
   ],
   "source": [
    "surveysTime.apply(change_description).head()"
   ]
  },
  {
   "cell_type": "markdown",
   "id": "5f6bd8d6",
   "metadata": {},
   "source": []
  }
 ],
 "metadata": {
  "kernelspec": {
   "display_name": "Python 3 (ipykernel)",
   "language": "python",
   "name": "python3"
  },
  "language_info": {
   "codemirror_mode": {
    "name": "ipython",
    "version": 3
   },
   "file_extension": ".py",
   "mimetype": "text/x-python",
   "name": "python",
   "nbconvert_exporter": "python",
   "pygments_lexer": "ipython3",
   "version": "3.9.15"
  }
 },
 "nbformat": 4,
 "nbformat_minor": 5
}
