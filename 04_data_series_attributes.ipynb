{
 "cells": [
  {
   "cell_type": "code",
   "execution_count": 2,
   "id": "b2d59d0f",
   "metadata": {},
   "outputs": [],
   "source": [
    "import pandas as pd\n",
    "import numpy as np\n",
    "import matplotlib.pyplot as ptl\n",
    "import math as math"
   ]
  },
  {
   "cell_type": "code",
   "execution_count": 4,
   "id": "fae3822b",
   "metadata": {},
   "outputs": [],
   "source": [
    "import random as rnd\n",
    "\n",
    "dataAsFloatList = []\n",
    "for i in range(100_000):\n",
    "    dataAsFloatList.append(i * rnd.random())\n",
    "\n",
    "dataAsFloatSeries = pd.Series(dataAsFloatList)    "
   ]
  },
  {
   "cell_type": "markdown",
   "id": "c570349a",
   "metadata": {},
   "source": [
    "# display data series attributes"
   ]
  },
  {
   "cell_type": "code",
   "execution_count": 5,
   "id": "df400b9b",
   "metadata": {},
   "outputs": [
    {
     "data": {
      "text/plain": [
       "100000"
      ]
     },
     "execution_count": 5,
     "metadata": {},
     "output_type": "execute_result"
    }
   ],
   "source": [
    "dataAsFloatSeries.size"
   ]
  },
  {
   "cell_type": "code",
   "execution_count": 6,
   "id": "bbd03223",
   "metadata": {},
   "outputs": [
    {
     "data": {
      "text/plain": [
       "800000"
      ]
     },
     "execution_count": 6,
     "metadata": {},
     "output_type": "execute_result"
    }
   ],
   "source": [
    "dataAsFloatSeries.nbytes"
   ]
  },
  {
   "cell_type": "code",
   "execution_count": 7,
   "id": "13eb4d83",
   "metadata": {},
   "outputs": [
    {
     "data": {
      "text/plain": [
       "(100000,)"
      ]
     },
     "execution_count": 7,
     "metadata": {},
     "output_type": "execute_result"
    }
   ],
   "source": [
    "dataAsFloatSeries.shape"
   ]
  },
  {
   "cell_type": "code",
   "execution_count": 8,
   "id": "590c20b7",
   "metadata": {},
   "outputs": [
    {
     "data": {
      "text/plain": [
       "[RangeIndex(start=0, stop=100000, step=1)]"
      ]
     },
     "execution_count": 8,
     "metadata": {},
     "output_type": "execute_result"
    }
   ],
   "source": [
    "dataAsFloatSeries.axes"
   ]
  },
  {
   "cell_type": "code",
   "execution_count": 9,
   "id": "1addd483",
   "metadata": {},
   "outputs": [
    {
     "data": {
      "text/plain": [
       "dtype('float64')"
      ]
     },
     "execution_count": 9,
     "metadata": {},
     "output_type": "execute_result"
    }
   ],
   "source": [
    "dataAsFloatSeries.dtype"
   ]
  },
  {
   "cell_type": "code",
   "execution_count": 10,
   "id": "5ce96d02",
   "metadata": {},
   "outputs": [
    {
     "data": {
      "text/plain": [
       "RangeIndex(start=0, stop=100000, step=1)"
      ]
     },
     "execution_count": 10,
     "metadata": {},
     "output_type": "execute_result"
    }
   ],
   "source": [
    "dataAsFloatSeries.index"
   ]
  },
  {
   "cell_type": "code",
   "execution_count": 11,
   "id": "299025c6",
   "metadata": {},
   "outputs": [
    {
     "data": {
      "text/plain": [
       "True"
      ]
     },
     "execution_count": 11,
     "metadata": {},
     "output_type": "execute_result"
    }
   ],
   "source": [
    "dataAsFloatSeries.is_unique"
   ]
  },
  {
   "cell_type": "code",
   "execution_count": 12,
   "id": "868a49eb",
   "metadata": {},
   "outputs": [
    {
     "data": {
      "text/plain": [
       "False"
      ]
     },
     "execution_count": 12,
     "metadata": {},
     "output_type": "execute_result"
    }
   ],
   "source": [
    "dataAsFloatSeries.is_monotonic"
   ]
  },
  {
   "cell_type": "code",
   "execution_count": 15,
   "id": "506c6626",
   "metadata": {},
   "outputs": [],
   "source": [
    "import random as rnd\n",
    "\n",
    "dataAsStringList = []\n",
    "for i in range(100_000):\n",
    "    dataAsStringList.append(str(i * rnd.random()))\n",
    "\n",
    "dataAsStringSeries = pd.Series(dataAsStringList)"
   ]
  },
  {
   "cell_type": "code",
   "execution_count": 17,
   "id": "110cf37b",
   "metadata": {},
   "outputs": [
    {
     "name": "stdout",
     "output_type": "stream",
     "text": [
      "size: 100000\n",
      "nbytes: 800000\n",
      "dtype: object\n"
     ]
    }
   ],
   "source": [
    "print(f'size: {dataAsStringSeries.size}')\n",
    "print(f'nbytes: {dataAsStringSeries.nbytes}')\n",
    "print(f'dtype: {dataAsStringSeries.dtype}')"
   ]
  },
  {
   "cell_type": "markdown",
   "id": "57322ca0",
   "metadata": {},
   "source": [
    "## nbytes attribute only estimates memory usage; it's fast but not accurate\n",
    "**if you need more accurate estimate it's better to use memory_usage attribute instead**"
   ]
  },
  {
   "cell_type": "code",
   "execution_count": 18,
   "id": "9671e413",
   "metadata": {},
   "outputs": [
    {
     "name": "stdout",
     "output_type": "stream",
     "text": [
      "FloatSeries memory usage: 800128\n",
      "StringSeries memory usage: 7434969\n"
     ]
    }
   ],
   "source": [
    "print(f'FloatSeries memory usage: {dataAsFloatSeries.memory_usage(deep=True)}')\n",
    "print(f'StringSeries memory usage: {dataAsStringSeries.memory_usage(deep=True)}')"
   ]
  },
  {
   "cell_type": "code",
   "execution_count": null,
   "id": "e5f18136",
   "metadata": {},
   "outputs": [],
   "source": []
  }
 ],
 "metadata": {
  "kernelspec": {
   "display_name": "Python 3 (ipykernel)",
   "language": "python",
   "name": "python3"
  },
  "language_info": {
   "codemirror_mode": {
    "name": "ipython",
    "version": 3
   },
   "file_extension": ".py",
   "mimetype": "text/x-python",
   "name": "python",
   "nbconvert_exporter": "python",
   "pygments_lexer": "ipython3",
   "version": "3.9.15"
  }
 },
 "nbformat": 4,
 "nbformat_minor": 5
}
