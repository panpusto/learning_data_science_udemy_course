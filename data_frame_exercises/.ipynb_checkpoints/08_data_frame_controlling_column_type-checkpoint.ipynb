{
 "cells": [
  {
   "cell_type": "code",
   "execution_count": 1,
   "id": "13342ffa",
   "metadata": {},
   "outputs": [],
   "source": [
    "import pandas as pd\n",
    "import numpy as np"
   ]
  },
  {
   "cell_type": "code",
   "execution_count": 2,
   "id": "d082508a",
   "metadata": {},
   "outputs": [
    {
     "data": {
      "text/html": [
       "<div>\n",
       "<style scoped>\n",
       "    .dataframe tbody tr th:only-of-type {\n",
       "        vertical-align: middle;\n",
       "    }\n",
       "\n",
       "    .dataframe tbody tr th {\n",
       "        vertical-align: top;\n",
       "    }\n",
       "\n",
       "    .dataframe thead th {\n",
       "        text-align: right;\n",
       "    }\n",
       "</style>\n",
       "<table border=\"1\" class=\"dataframe\">\n",
       "  <thead>\n",
       "    <tr style=\"text-align: right;\">\n",
       "      <th></th>\n",
       "      <th>vehicle_id</th>\n",
       "      <th>year</th>\n",
       "      <th>make</th>\n",
       "      <th>model</th>\n",
       "      <th>class</th>\n",
       "      <th>fuel_type</th>\n",
       "      <th>combined_mpg_ft1</th>\n",
       "    </tr>\n",
       "  </thead>\n",
       "  <tbody>\n",
       "    <tr>\n",
       "      <th>0</th>\n",
       "      <td>26587</td>\n",
       "      <td>1984</td>\n",
       "      <td>Alfa Romeo</td>\n",
       "      <td>GT V6 2.5</td>\n",
       "      <td>Minicompact Cars</td>\n",
       "      <td>Regular</td>\n",
       "      <td>20</td>\n",
       "    </tr>\n",
       "    <tr>\n",
       "      <th>1</th>\n",
       "      <td>27705</td>\n",
       "      <td>1984</td>\n",
       "      <td>Alfa Romeo</td>\n",
       "      <td>GT V6 2.5</td>\n",
       "      <td>Minicompact Cars</td>\n",
       "      <td>Regular</td>\n",
       "      <td>20</td>\n",
       "    </tr>\n",
       "    <tr>\n",
       "      <th>2</th>\n",
       "      <td>26561</td>\n",
       "      <td>1984</td>\n",
       "      <td>Alfa Romeo</td>\n",
       "      <td>Spider Veloce 2000</td>\n",
       "      <td>Two Seaters</td>\n",
       "      <td>Regular</td>\n",
       "      <td>21</td>\n",
       "    </tr>\n",
       "    <tr>\n",
       "      <th>3</th>\n",
       "      <td>27681</td>\n",
       "      <td>1984</td>\n",
       "      <td>Alfa Romeo</td>\n",
       "      <td>Spider Veloce 2000</td>\n",
       "      <td>Two Seaters</td>\n",
       "      <td>Regular</td>\n",
       "      <td>21</td>\n",
       "    </tr>\n",
       "    <tr>\n",
       "      <th>4</th>\n",
       "      <td>27550</td>\n",
       "      <td>1984</td>\n",
       "      <td>AM General</td>\n",
       "      <td>DJ Po Vehicle 2WD</td>\n",
       "      <td>Special Purpose Vehicle 2WD</td>\n",
       "      <td>Regular</td>\n",
       "      <td>17</td>\n",
       "    </tr>\n",
       "  </tbody>\n",
       "</table>\n",
       "</div>"
      ],
      "text/plain": [
       "   vehicle_id  year        make               model  \\\n",
       "0       26587  1984  Alfa Romeo           GT V6 2.5   \n",
       "1       27705  1984  Alfa Romeo           GT V6 2.5   \n",
       "2       26561  1984  Alfa Romeo  Spider Veloce 2000   \n",
       "3       27681  1984  Alfa Romeo  Spider Veloce 2000   \n",
       "4       27550  1984  AM General   DJ Po Vehicle 2WD   \n",
       "\n",
       "                         class fuel_type  combined_mpg_ft1  \n",
       "0             Minicompact Cars   Regular                20  \n",
       "1             Minicompact Cars   Regular                20  \n",
       "2                  Two Seaters   Regular                21  \n",
       "3                  Two Seaters   Regular                21  \n",
       "4  Special Purpose Vehicle 2WD   Regular                17  "
      ]
     },
     "execution_count": 2,
     "metadata": {},
     "output_type": "execute_result"
    }
   ],
   "source": [
    "fuel = pd.read_csv('../../data_sets/fuel.csv', \n",
    "                   usecols=[\n",
    "                       'vehicle_id',\n",
    "                       'year',\n",
    "                       'make',\n",
    "                       'model',\n",
    "                       'class',\n",
    "                       'fuel_type',\n",
    "                       'combined_mpg_ft1'\n",
    "                   ],\n",
    "                   low_memory=False)\n",
    "fuel.head()"
   ]
  },
  {
   "cell_type": "markdown",
   "id": "92a0f3e4",
   "metadata": {},
   "source": [
    "### info about all columns"
   ]
  },
  {
   "cell_type": "code",
   "execution_count": 3,
   "id": "6eef3fa5",
   "metadata": {},
   "outputs": [
    {
     "name": "stdout",
     "output_type": "stream",
     "text": [
      "<class 'pandas.core.frame.DataFrame'>\n",
      "RangeIndex: 38113 entries, 0 to 38112\n",
      "Data columns (total 7 columns):\n",
      " #   Column            Non-Null Count  Dtype \n",
      "---  ------            --------------  ----- \n",
      " 0   vehicle_id        38113 non-null  int64 \n",
      " 1   year              38113 non-null  int64 \n",
      " 2   make              38113 non-null  object\n",
      " 3   model             38113 non-null  object\n",
      " 4   class             38113 non-null  object\n",
      " 5   fuel_type         38113 non-null  object\n",
      " 6   combined_mpg_ft1  38113 non-null  int64 \n",
      "dtypes: int64(3), object(4)\n",
      "memory usage: 2.0+ MB\n"
     ]
    }
   ],
   "source": [
    "fuel.info()"
   ]
  },
  {
   "cell_type": "markdown",
   "id": "95779e3d",
   "metadata": {},
   "source": [
    "### precise info about memory usage"
   ]
  },
  {
   "cell_type": "code",
   "execution_count": 4,
   "id": "aae6f25f",
   "metadata": {},
   "outputs": [
    {
     "name": "stdout",
     "output_type": "stream",
     "text": [
      "<class 'pandas.core.frame.DataFrame'>\n",
      "RangeIndex: 38113 entries, 0 to 38112\n",
      "Data columns (total 7 columns):\n",
      " #   Column            Non-Null Count  Dtype \n",
      "---  ------            --------------  ----- \n",
      " 0   vehicle_id        38113 non-null  int64 \n",
      " 1   year              38113 non-null  int64 \n",
      " 2   make              38113 non-null  object\n",
      " 3   model             38113 non-null  object\n",
      " 4   class             38113 non-null  object\n",
      " 5   fuel_type         38113 non-null  object\n",
      " 6   combined_mpg_ft1  38113 non-null  int64 \n",
      "dtypes: int64(3), object(4)\n",
      "memory usage: 10.7 MB\n"
     ]
    }
   ],
   "source": [
    "fuel.info(memory_usage='deep')"
   ]
  },
  {
   "cell_type": "markdown",
   "id": "2c59d6f4",
   "metadata": {},
   "source": [
    "### convert column to 'int32' type"
   ]
  },
  {
   "cell_type": "code",
   "execution_count": 11,
   "id": "a9c37c2e",
   "metadata": {},
   "outputs": [],
   "source": [
    "fuel['year'] = fuel['year'].astype('int32')"
   ]
  },
  {
   "cell_type": "code",
   "execution_count": 12,
   "id": "ecbeae1f",
   "metadata": {},
   "outputs": [
    {
     "name": "stdout",
     "output_type": "stream",
     "text": [
      "<class 'pandas.core.frame.DataFrame'>\n",
      "RangeIndex: 38113 entries, 0 to 38112\n",
      "Data columns (total 7 columns):\n",
      " #   Column            Non-Null Count  Dtype \n",
      "---  ------            --------------  ----- \n",
      " 0   vehicle_id        38113 non-null  int64 \n",
      " 1   year              38113 non-null  int32 \n",
      " 2   make              38113 non-null  object\n",
      " 3   model             38113 non-null  object\n",
      " 4   class             38113 non-null  object\n",
      " 5   fuel_type         38113 non-null  object\n",
      " 6   combined_mpg_ft1  38113 non-null  int64 \n",
      "dtypes: int32(1), int64(2), object(4)\n",
      "memory usage: 10.6 MB\n"
     ]
    }
   ],
   "source": [
    "fuel.info(memory_usage='deep')"
   ]
  },
  {
   "cell_type": "markdown",
   "id": "b7a63a8b",
   "metadata": {},
   "source": [
    "### checking  how many times the values in the column are repeated"
   ]
  },
  {
   "cell_type": "code",
   "execution_count": 14,
   "id": "a7291956",
   "metadata": {},
   "outputs": [
    {
     "data": {
      "text/plain": [
       "Chevrolet    3810\n",
       "Ford         3155\n",
       "Dodge        2531\n",
       "GMC          2398\n",
       "Toyota       1937\n",
       "Name: make, dtype: int64"
      ]
     },
     "execution_count": 14,
     "metadata": {},
     "output_type": "execute_result"
    }
   ],
   "source": [
    "fuel['make'].value_counts().head()"
   ]
  },
  {
   "cell_type": "markdown",
   "id": "0462abd7",
   "metadata": {},
   "source": [
    "### convert column to 'category' type"
   ]
  },
  {
   "cell_type": "code",
   "execution_count": 16,
   "id": "88a69689",
   "metadata": {},
   "outputs": [
    {
     "name": "stdout",
     "output_type": "stream",
     "text": [
      "<class 'pandas.core.frame.DataFrame'>\n",
      "RangeIndex: 38113 entries, 0 to 38112\n",
      "Data columns (total 7 columns):\n",
      " #   Column            Non-Null Count  Dtype   \n",
      "---  ------            --------------  -----   \n",
      " 0   vehicle_id        38113 non-null  int64   \n",
      " 1   year              38113 non-null  int32   \n",
      " 2   make              38113 non-null  category\n",
      " 3   model             38113 non-null  object  \n",
      " 4   class             38113 non-null  object  \n",
      " 5   fuel_type         38113 non-null  object  \n",
      " 6   combined_mpg_ft1  38113 non-null  int64   \n",
      "dtypes: category(1), int32(1), int64(2), object(3)\n",
      "memory usage: 8.4 MB\n"
     ]
    }
   ],
   "source": [
    "fuel['make'] = fuel['make'].astype('category')\n",
    "fuel.info(memory_usage='deep')"
   ]
  },
  {
   "cell_type": "code",
   "execution_count": 17,
   "id": "b03bbaff",
   "metadata": {},
   "outputs": [
    {
     "data": {
      "text/plain": [
       "F150 Pickup 2WD    209\n",
       "Truck 2WD          187\n",
       "F150 Pickup 4WD    187\n",
       "Mustang            184\n",
       "Jetta              172\n",
       "Name: model, dtype: int64"
      ]
     },
     "execution_count": 17,
     "metadata": {},
     "output_type": "execute_result"
    }
   ],
   "source": [
    "fuel['model'].value_counts().head()"
   ]
  },
  {
   "cell_type": "code",
   "execution_count": 19,
   "id": "3b3f8b83",
   "metadata": {},
   "outputs": [
    {
     "name": "stdout",
     "output_type": "stream",
     "text": [
      "<class 'pandas.core.frame.DataFrame'>\n",
      "RangeIndex: 38113 entries, 0 to 38112\n",
      "Data columns (total 7 columns):\n",
      " #   Column            Non-Null Count  Dtype   \n",
      "---  ------            --------------  -----   \n",
      " 0   vehicle_id        38113 non-null  int64   \n",
      " 1   year              38113 non-null  int32   \n",
      " 2   make              38113 non-null  category\n",
      " 3   model             38113 non-null  category\n",
      " 4   class             38113 non-null  object  \n",
      " 5   fuel_type         38113 non-null  object  \n",
      " 6   combined_mpg_ft1  38113 non-null  int64   \n",
      "dtypes: category(2), int32(1), int64(2), object(2)\n",
      "memory usage: 6.3 MB\n"
     ]
    }
   ],
   "source": [
    "fuel['model'] = fuel['model'].astype('category')\n",
    "fuel.info(memory_usage='deep')"
   ]
  },
  {
   "cell_type": "code",
   "execution_count": 20,
   "id": "d0135b18",
   "metadata": {},
   "outputs": [
    {
     "data": {
      "text/plain": [
       "Compact Cars                   5508\n",
       "Subcompact Cars                4872\n",
       "Midsize Cars                   4395\n",
       "Standard Pickup Trucks         2354\n",
       "Sport Utility Vehicle - 4WD    2082\n",
       "Name: class, dtype: int64"
      ]
     },
     "execution_count": 20,
     "metadata": {},
     "output_type": "execute_result"
    }
   ],
   "source": [
    "fuel['class'].value_counts().head()"
   ]
  },
  {
   "cell_type": "code",
   "execution_count": 21,
   "id": "2c4ce9e4",
   "metadata": {},
   "outputs": [
    {
     "name": "stdout",
     "output_type": "stream",
     "text": [
      "<class 'pandas.core.frame.DataFrame'>\n",
      "RangeIndex: 38113 entries, 0 to 38112\n",
      "Data columns (total 7 columns):\n",
      " #   Column            Non-Null Count  Dtype   \n",
      "---  ------            --------------  -----   \n",
      " 0   vehicle_id        38113 non-null  int64   \n",
      " 1   year              38113 non-null  int32   \n",
      " 2   make              38113 non-null  category\n",
      " 3   model             38113 non-null  category\n",
      " 4   class             38113 non-null  category\n",
      " 5   fuel_type         38113 non-null  object  \n",
      " 6   combined_mpg_ft1  38113 non-null  int64   \n",
      "dtypes: category(3), int32(1), int64(2), object(1)\n",
      "memory usage: 3.6 MB\n"
     ]
    }
   ],
   "source": [
    "fuel['class'] = fuel['class'].astype('category')\n",
    "fuel.info(memory_usage='deep')"
   ]
  },
  {
   "cell_type": "code",
   "execution_count": 22,
   "id": "c648ac45",
   "metadata": {},
   "outputs": [
    {
     "data": {
      "text/plain": [
       "Regular            25258\n",
       "Premium            10133\n",
       "Gasoline or E85     1223\n",
       "Diesel              1014\n",
       "Electricity          133\n",
       "Name: fuel_type, dtype: int64"
      ]
     },
     "execution_count": 22,
     "metadata": {},
     "output_type": "execute_result"
    }
   ],
   "source": [
    "fuel['fuel_type'].value_counts().head()"
   ]
  },
  {
   "cell_type": "code",
   "execution_count": 23,
   "id": "a6c73728",
   "metadata": {},
   "outputs": [
    {
     "name": "stdout",
     "output_type": "stream",
     "text": [
      "<class 'pandas.core.frame.DataFrame'>\n",
      "RangeIndex: 38113 entries, 0 to 38112\n",
      "Data columns (total 7 columns):\n",
      " #   Column            Non-Null Count  Dtype   \n",
      "---  ------            --------------  -----   \n",
      " 0   vehicle_id        38113 non-null  int64   \n",
      " 1   year              38113 non-null  int32   \n",
      " 2   make              38113 non-null  category\n",
      " 3   model             38113 non-null  category\n",
      " 4   class             38113 non-null  category\n",
      " 5   fuel_type         38113 non-null  category\n",
      " 6   combined_mpg_ft1  38113 non-null  int64   \n",
      "dtypes: category(4), int32(1), int64(2)\n",
      "memory usage: 1.3 MB\n"
     ]
    }
   ],
   "source": [
    "fuel['fuel_type'] = fuel['fuel_type'].astype('category')\n",
    "fuel.info(memory_usage='deep')"
   ]
  },
  {
   "cell_type": "code",
   "execution_count": 24,
   "id": "8462c56f",
   "metadata": {},
   "outputs": [],
   "source": [
    "fuel['combined_mpg_ft1'] = fuel['combined_mpg_ft1'].astype('float')"
   ]
  },
  {
   "cell_type": "code",
   "execution_count": 25,
   "id": "573588f8",
   "metadata": {},
   "outputs": [
    {
     "name": "stdout",
     "output_type": "stream",
     "text": [
      "<class 'pandas.core.frame.DataFrame'>\n",
      "RangeIndex: 38113 entries, 0 to 38112\n",
      "Data columns (total 7 columns):\n",
      " #   Column            Non-Null Count  Dtype   \n",
      "---  ------            --------------  -----   \n",
      " 0   vehicle_id        38113 non-null  int64   \n",
      " 1   year              38113 non-null  int32   \n",
      " 2   make              38113 non-null  category\n",
      " 3   model             38113 non-null  category\n",
      " 4   class             38113 non-null  category\n",
      " 5   fuel_type         38113 non-null  category\n",
      " 6   combined_mpg_ft1  38113 non-null  float64 \n",
      "dtypes: category(4), float64(1), int32(1), int64(1)\n",
      "memory usage: 1.3 MB\n"
     ]
    }
   ],
   "source": [
    "fuel.info(memory_usage='deep')"
   ]
  },
  {
   "cell_type": "markdown",
   "id": "7aebd269",
   "metadata": {},
   "source": [
    "### Comment: Initial size was 10.7MB, after optimization is 1.3MB. \n",
    "**When data has a lot of repeated values is worth to convert it to 'category' type. It saves a lot of memory**"
   ]
  },
  {
   "cell_type": "code",
   "execution_count": null,
   "id": "4a78805c",
   "metadata": {},
   "outputs": [],
   "source": []
  }
 ],
 "metadata": {
  "kernelspec": {
   "display_name": "Python 3 (ipykernel)",
   "language": "python",
   "name": "python3"
  },
  "language_info": {
   "codemirror_mode": {
    "name": "ipython",
    "version": 3
   },
   "file_extension": ".py",
   "mimetype": "text/x-python",
   "name": "python",
   "nbconvert_exporter": "python",
   "pygments_lexer": "ipython3",
   "version": "3.9.15"
  }
 },
 "nbformat": 4,
 "nbformat_minor": 5
}
