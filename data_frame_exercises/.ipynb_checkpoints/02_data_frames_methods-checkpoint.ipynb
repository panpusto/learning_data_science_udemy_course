{
 "cells": [
  {
   "cell_type": "code",
   "execution_count": 1,
   "id": "624c5544",
   "metadata": {},
   "outputs": [],
   "source": [
    "import pandas as pd"
   ]
  },
  {
   "cell_type": "code",
   "execution_count": 2,
   "id": "24e55a88",
   "metadata": {},
   "outputs": [
    {
     "data": {
      "text/html": [
       "<div>\n",
       "<style scoped>\n",
       "    .dataframe tbody tr th:only-of-type {\n",
       "        vertical-align: middle;\n",
       "    }\n",
       "\n",
       "    .dataframe tbody tr th {\n",
       "        vertical-align: top;\n",
       "    }\n",
       "\n",
       "    .dataframe thead th {\n",
       "        text-align: right;\n",
       "    }\n",
       "</style>\n",
       "<table border=\"1\" class=\"dataframe\">\n",
       "  <thead>\n",
       "    <tr style=\"text-align: right;\">\n",
       "      <th></th>\n",
       "      <th>vehicle_id</th>\n",
       "      <th>year</th>\n",
       "      <th>make</th>\n",
       "      <th>model</th>\n",
       "      <th>class</th>\n",
       "      <th>fuel_type</th>\n",
       "      <th>combined_mpg_ft1</th>\n",
       "    </tr>\n",
       "  </thead>\n",
       "  <tbody>\n",
       "    <tr>\n",
       "      <th>0</th>\n",
       "      <td>26587</td>\n",
       "      <td>1984</td>\n",
       "      <td>Alfa Romeo</td>\n",
       "      <td>GT V6 2.5</td>\n",
       "      <td>Minicompact Cars</td>\n",
       "      <td>Regular</td>\n",
       "      <td>20</td>\n",
       "    </tr>\n",
       "    <tr>\n",
       "      <th>1</th>\n",
       "      <td>27705</td>\n",
       "      <td>1984</td>\n",
       "      <td>Alfa Romeo</td>\n",
       "      <td>GT V6 2.5</td>\n",
       "      <td>Minicompact Cars</td>\n",
       "      <td>Regular</td>\n",
       "      <td>20</td>\n",
       "    </tr>\n",
       "    <tr>\n",
       "      <th>2</th>\n",
       "      <td>26561</td>\n",
       "      <td>1984</td>\n",
       "      <td>Alfa Romeo</td>\n",
       "      <td>Spider Veloce 2000</td>\n",
       "      <td>Two Seaters</td>\n",
       "      <td>Regular</td>\n",
       "      <td>21</td>\n",
       "    </tr>\n",
       "    <tr>\n",
       "      <th>3</th>\n",
       "      <td>27681</td>\n",
       "      <td>1984</td>\n",
       "      <td>Alfa Romeo</td>\n",
       "      <td>Spider Veloce 2000</td>\n",
       "      <td>Two Seaters</td>\n",
       "      <td>Regular</td>\n",
       "      <td>21</td>\n",
       "    </tr>\n",
       "    <tr>\n",
       "      <th>4</th>\n",
       "      <td>27550</td>\n",
       "      <td>1984</td>\n",
       "      <td>AM General</td>\n",
       "      <td>DJ Po Vehicle 2WD</td>\n",
       "      <td>Special Purpose Vehicle 2WD</td>\n",
       "      <td>Regular</td>\n",
       "      <td>17</td>\n",
       "    </tr>\n",
       "  </tbody>\n",
       "</table>\n",
       "</div>"
      ],
      "text/plain": [
       "   vehicle_id  year        make               model  \\\n",
       "0       26587  1984  Alfa Romeo           GT V6 2.5   \n",
       "1       27705  1984  Alfa Romeo           GT V6 2.5   \n",
       "2       26561  1984  Alfa Romeo  Spider Veloce 2000   \n",
       "3       27681  1984  Alfa Romeo  Spider Veloce 2000   \n",
       "4       27550  1984  AM General   DJ Po Vehicle 2WD   \n",
       "\n",
       "                         class fuel_type  combined_mpg_ft1  \n",
       "0             Minicompact Cars   Regular                20  \n",
       "1             Minicompact Cars   Regular                20  \n",
       "2                  Two Seaters   Regular                21  \n",
       "3                  Two Seaters   Regular                21  \n",
       "4  Special Purpose Vehicle 2WD   Regular                17  "
      ]
     },
     "execution_count": 2,
     "metadata": {},
     "output_type": "execute_result"
    }
   ],
   "source": [
    "fuel = pd.read_csv('../../data_sets/fuel.csv', \n",
    "                   usecols=[\n",
    "                       'vehicle_id',\n",
    "                       'year',\n",
    "                       'make',\n",
    "                       'model',\n",
    "                       'class',\n",
    "                       'fuel_type',\n",
    "                       'combined_mpg_ft1'],\n",
    "                  low_memory=False)\n",
    "fuel.head()"
   ]
  },
  {
   "cell_type": "markdown",
   "id": "220eefba",
   "metadata": {},
   "source": [
    "### basic information about data"
   ]
  },
  {
   "cell_type": "code",
   "execution_count": 3,
   "id": "8129c3dc",
   "metadata": {},
   "outputs": [
    {
     "name": "stdout",
     "output_type": "stream",
     "text": [
      "<class 'pandas.core.frame.DataFrame'>\n",
      "RangeIndex: 38113 entries, 0 to 38112\n",
      "Data columns (total 7 columns):\n",
      " #   Column            Non-Null Count  Dtype \n",
      "---  ------            --------------  ----- \n",
      " 0   vehicle_id        38113 non-null  int64 \n",
      " 1   year              38113 non-null  int64 \n",
      " 2   make              38113 non-null  object\n",
      " 3   model             38113 non-null  object\n",
      " 4   class             38113 non-null  object\n",
      " 5   fuel_type         38113 non-null  object\n",
      " 6   combined_mpg_ft1  38113 non-null  int64 \n",
      "dtypes: int64(3), object(4)\n",
      "memory usage: 2.0+ MB\n"
     ]
    }
   ],
   "source": [
    "fuel.info()"
   ]
  },
  {
   "cell_type": "markdown",
   "id": "d7653b48",
   "metadata": {},
   "source": [
    "### type of each column"
   ]
  },
  {
   "cell_type": "code",
   "execution_count": 4,
   "id": "24366609",
   "metadata": {},
   "outputs": [
    {
     "data": {
      "text/plain": [
       "vehicle_id           int64\n",
       "year                 int64\n",
       "make                object\n",
       "model               object\n",
       "class               object\n",
       "fuel_type           object\n",
       "combined_mpg_ft1     int64\n",
       "dtype: object"
      ]
     },
     "execution_count": 4,
     "metadata": {},
     "output_type": "execute_result"
    }
   ],
   "source": [
    "fuel.dtypes"
   ]
  },
  {
   "cell_type": "markdown",
   "id": "919fd90e",
   "metadata": {},
   "source": [
    "### using each type of data"
   ]
  },
  {
   "cell_type": "code",
   "execution_count": 5,
   "id": "925d5097",
   "metadata": {},
   "outputs": [
    {
     "data": {
      "text/plain": [
       "object    4\n",
       "int64     3\n",
       "dtype: int64"
      ]
     },
     "execution_count": 5,
     "metadata": {},
     "output_type": "execute_result"
    }
   ],
   "source": [
    "fuel.dtypes.value_counts()"
   ]
  },
  {
   "cell_type": "markdown",
   "id": "37a3f5aa",
   "metadata": {},
   "source": [
    "### amount of car's model produced by each brand"
   ]
  },
  {
   "cell_type": "code",
   "execution_count": 7,
   "id": "82689b2a",
   "metadata": {},
   "outputs": [
    {
     "data": {
      "text/plain": [
       "Chevrolet        3810\n",
       "Ford             3155\n",
       "Dodge            2531\n",
       "GMC              2398\n",
       "Toyota           1937\n",
       "BMW              1712\n",
       "Nissan           1372\n",
       "Mercedes-Benz    1349\n",
       "Volkswagen       1069\n",
       "Mitsubishi       1029\n",
       "Name: make, dtype: int64"
      ]
     },
     "execution_count": 7,
     "metadata": {},
     "output_type": "execute_result"
    }
   ],
   "source": [
    "fuel['make'].value_counts().head(10)"
   ]
  },
  {
   "cell_type": "markdown",
   "id": "655cde8c",
   "metadata": {},
   "source": [
    "### index of data frame object"
   ]
  },
  {
   "cell_type": "code",
   "execution_count": 9,
   "id": "0eff8446",
   "metadata": {},
   "outputs": [
    {
     "data": {
      "text/plain": [
       "RangeIndex(start=0, stop=38113, step=1)"
      ]
     },
     "execution_count": 9,
     "metadata": {},
     "output_type": "execute_result"
    }
   ],
   "source": [
    "fuel.index"
   ]
  },
  {
   "cell_type": "markdown",
   "id": "93322e31",
   "metadata": {},
   "source": [
    "### information about each column"
   ]
  },
  {
   "cell_type": "code",
   "execution_count": 10,
   "id": "3506e131",
   "metadata": {},
   "outputs": [
    {
     "data": {
      "text/plain": [
       "Index(['vehicle_id', 'year', 'make', 'model', 'class', 'fuel_type',\n",
       "       'combined_mpg_ft1'],\n",
       "      dtype='object')"
      ]
     },
     "execution_count": 10,
     "metadata": {},
     "output_type": "execute_result"
    }
   ],
   "source": [
    "fuel.columns"
   ]
  },
  {
   "cell_type": "markdown",
   "id": "2c6f51e6",
   "metadata": {},
   "source": [
    "### information about values"
   ]
  },
  {
   "cell_type": "code",
   "execution_count": 11,
   "id": "63280601",
   "metadata": {},
   "outputs": [
    {
     "data": {
      "text/plain": [
       "array([[26587, 1984, 'Alfa Romeo', ..., 'Minicompact Cars', 'Regular',\n",
       "        20],\n",
       "       [27705, 1984, 'Alfa Romeo', ..., 'Minicompact Cars', 'Regular',\n",
       "        20],\n",
       "       [26561, 1984, 'Alfa Romeo', ..., 'Two Seaters', 'Regular', 21],\n",
       "       ...,\n",
       "       [37548, 2017, 'Volvo', ..., 'Standard Sport Utility Vehicle 4WD',\n",
       "        'Premium', 23],\n",
       "       [37703, 2017, 'Volvo', ..., 'Standard Sport Utility Vehicle 4WD',\n",
       "        'Premium and Electricity', 25],\n",
       "       [37687, 2017, 'Volvo', ..., 'Standard Sport Utility Vehicle 2WD',\n",
       "        'Premium', 24]], dtype=object)"
      ]
     },
     "execution_count": 11,
     "metadata": {},
     "output_type": "execute_result"
    }
   ],
   "source": [
    "fuel.values"
   ]
  },
  {
   "cell_type": "markdown",
   "id": "c49a38aa",
   "metadata": {},
   "source": [
    "### info about object's axes"
   ]
  },
  {
   "cell_type": "code",
   "execution_count": 12,
   "id": "7d9b3299",
   "metadata": {},
   "outputs": [
    {
     "data": {
      "text/plain": [
       "[RangeIndex(start=0, stop=38113, step=1),\n",
       " Index(['vehicle_id', 'year', 'make', 'model', 'class', 'fuel_type',\n",
       "        'combined_mpg_ft1'],\n",
       "       dtype='object')]"
      ]
     },
     "execution_count": 12,
     "metadata": {},
     "output_type": "execute_result"
    }
   ],
   "source": [
    "fuel.axes"
   ]
  },
  {
   "cell_type": "markdown",
   "id": "05bdb4d6",
   "metadata": {},
   "source": [
    "### info about object's shape"
   ]
  },
  {
   "cell_type": "code",
   "execution_count": 13,
   "id": "4d6daf3c",
   "metadata": {},
   "outputs": [
    {
     "data": {
      "text/plain": [
       "(38113, 7)"
      ]
     },
     "execution_count": 13,
     "metadata": {},
     "output_type": "execute_result"
    }
   ],
   "source": [
    "fuel.shape"
   ]
  },
  {
   "cell_type": "markdown",
   "id": "0b0bbf78",
   "metadata": {},
   "source": [
    "### number of records in each column\n",
    "**when value is NaN it's not counted**"
   ]
  },
  {
   "cell_type": "code",
   "execution_count": 14,
   "id": "2ecc5cfd",
   "metadata": {},
   "outputs": [
    {
     "data": {
      "text/plain": [
       "vehicle_id          38113\n",
       "year                38113\n",
       "make                38113\n",
       "model               38113\n",
       "class               38113\n",
       "fuel_type           38113\n",
       "combined_mpg_ft1    38113\n",
       "dtype: int64"
      ]
     },
     "execution_count": 14,
     "metadata": {},
     "output_type": "execute_result"
    }
   ],
   "source": [
    "fuel.count()"
   ]
  },
  {
   "cell_type": "markdown",
   "id": "2be446a9",
   "metadata": {},
   "source": [
    "### total number of data elements (data rows)"
   ]
  },
  {
   "cell_type": "code",
   "execution_count": 15,
   "id": "4b61033e",
   "metadata": {},
   "outputs": [
    {
     "data": {
      "text/plain": [
       "38113"
      ]
     },
     "execution_count": 15,
     "metadata": {},
     "output_type": "execute_result"
    }
   ],
   "source": [
    "len(fuel)"
   ]
  },
  {
   "cell_type": "code",
   "execution_count": null,
   "id": "d9934525",
   "metadata": {},
   "outputs": [],
   "source": []
  }
 ],
 "metadata": {
  "kernelspec": {
   "display_name": "Python 3 (ipykernel)",
   "language": "python",
   "name": "python3"
  },
  "language_info": {
   "codemirror_mode": {
    "name": "ipython",
    "version": 3
   },
   "file_extension": ".py",
   "mimetype": "text/x-python",
   "name": "python",
   "nbconvert_exporter": "python",
   "pygments_lexer": "ipython3",
   "version": "3.9.15"
  }
 },
 "nbformat": 4,
 "nbformat_minor": 5
}
