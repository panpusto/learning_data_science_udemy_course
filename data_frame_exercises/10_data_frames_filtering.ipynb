{
 "cells": [
  {
   "cell_type": "code",
   "execution_count": 1,
   "id": "5a6a6c48",
   "metadata": {},
   "outputs": [],
   "source": [
    "import pandas as pd\n",
    "import numpy as np"
   ]
  },
  {
   "cell_type": "code",
   "execution_count": 3,
   "id": "f64546b9",
   "metadata": {},
   "outputs": [
    {
     "data": {
      "text/html": [
       "<div>\n",
       "<style scoped>\n",
       "    .dataframe tbody tr th:only-of-type {\n",
       "        vertical-align: middle;\n",
       "    }\n",
       "\n",
       "    .dataframe tbody tr th {\n",
       "        vertical-align: top;\n",
       "    }\n",
       "\n",
       "    .dataframe thead th {\n",
       "        text-align: right;\n",
       "    }\n",
       "</style>\n",
       "<table border=\"1\" class=\"dataframe\">\n",
       "  <thead>\n",
       "    <tr style=\"text-align: right;\">\n",
       "      <th></th>\n",
       "      <th>Title</th>\n",
       "      <th>Employees</th>\n",
       "      <th>Profits</th>\n",
       "      <th>Assets</th>\n",
       "    </tr>\n",
       "    <tr>\n",
       "      <th>Rank</th>\n",
       "      <th></th>\n",
       "      <th></th>\n",
       "      <th></th>\n",
       "      <th></th>\n",
       "    </tr>\n",
       "  </thead>\n",
       "  <tbody>\n",
       "    <tr>\n",
       "      <th>1</th>\n",
       "      <td>Walmart</td>\n",
       "      <td>2300000</td>\n",
       "      <td>13643.0</td>\n",
       "      <td>198825</td>\n",
       "    </tr>\n",
       "    <tr>\n",
       "      <th>2</th>\n",
       "      <td>Berkshire Hathaway</td>\n",
       "      <td>367700</td>\n",
       "      <td>24074.0</td>\n",
       "      <td>620854</td>\n",
       "    </tr>\n",
       "    <tr>\n",
       "      <th>3</th>\n",
       "      <td>Apple</td>\n",
       "      <td>116000</td>\n",
       "      <td>45687.0</td>\n",
       "      <td>321686</td>\n",
       "    </tr>\n",
       "    <tr>\n",
       "      <th>4</th>\n",
       "      <td>Exxon Mobil</td>\n",
       "      <td>72700</td>\n",
       "      <td>7840.0</td>\n",
       "      <td>330314</td>\n",
       "    </tr>\n",
       "    <tr>\n",
       "      <th>5</th>\n",
       "      <td>McKesson</td>\n",
       "      <td>68000</td>\n",
       "      <td>2258.0</td>\n",
       "      <td>56563</td>\n",
       "    </tr>\n",
       "  </tbody>\n",
       "</table>\n",
       "</div>"
      ],
      "text/plain": [
       "                   Title  Employees  Profits  Assets\n",
       "Rank                                                \n",
       "1                Walmart    2300000  13643.0  198825\n",
       "2     Berkshire Hathaway     367700  24074.0  620854\n",
       "3                  Apple     116000  45687.0  321686\n",
       "4            Exxon Mobil      72700   7840.0  330314\n",
       "5               McKesson      68000   2258.0   56563"
      ]
     },
     "execution_count": 3,
     "metadata": {},
     "output_type": "execute_result"
    }
   ],
   "source": [
    "fortune = pd.read_csv('../data/fortune_500_2017.csv',\n",
    "                     usecols=['Rank', 'Title', 'Employees', 'Profits', 'Assets'],\n",
    "                     index_col='Rank')\n",
    "fortune.head()"
   ]
  },
  {
   "cell_type": "code",
   "execution_count": 4,
   "id": "cd770a3c",
   "metadata": {},
   "outputs": [
    {
     "data": {
      "text/plain": [
       "Rank\n",
       "1      1.0\n",
       "2      7.0\n",
       "3     57.0\n",
       "4     94.0\n",
       "5    104.5\n",
       "Name: Employees, dtype: float64"
      ]
     },
     "execution_count": 4,
     "metadata": {},
     "output_type": "execute_result"
    }
   ],
   "source": [
    "fortune['Employees'].rank(ascending=False).head()"
   ]
  },
  {
   "cell_type": "code",
   "execution_count": 5,
   "id": "e2d6cf2d",
   "metadata": {},
   "outputs": [
    {
     "data": {
      "text/html": [
       "<div>\n",
       "<style scoped>\n",
       "    .dataframe tbody tr th:only-of-type {\n",
       "        vertical-align: middle;\n",
       "    }\n",
       "\n",
       "    .dataframe tbody tr th {\n",
       "        vertical-align: top;\n",
       "    }\n",
       "\n",
       "    .dataframe thead th {\n",
       "        text-align: right;\n",
       "    }\n",
       "</style>\n",
       "<table border=\"1\" class=\"dataframe\">\n",
       "  <thead>\n",
       "    <tr style=\"text-align: right;\">\n",
       "      <th></th>\n",
       "      <th>Title</th>\n",
       "      <th>Employees</th>\n",
       "      <th>Profits</th>\n",
       "      <th>Assets</th>\n",
       "      <th>RankByEmployee</th>\n",
       "    </tr>\n",
       "    <tr>\n",
       "      <th>Rank</th>\n",
       "      <th></th>\n",
       "      <th></th>\n",
       "      <th></th>\n",
       "      <th></th>\n",
       "      <th></th>\n",
       "    </tr>\n",
       "  </thead>\n",
       "  <tbody>\n",
       "    <tr>\n",
       "      <th>1</th>\n",
       "      <td>Walmart</td>\n",
       "      <td>2300000</td>\n",
       "      <td>13643.0</td>\n",
       "      <td>198825</td>\n",
       "      <td>1.0</td>\n",
       "    </tr>\n",
       "    <tr>\n",
       "      <th>2</th>\n",
       "      <td>Berkshire Hathaway</td>\n",
       "      <td>367700</td>\n",
       "      <td>24074.0</td>\n",
       "      <td>620854</td>\n",
       "      <td>7.0</td>\n",
       "    </tr>\n",
       "    <tr>\n",
       "      <th>3</th>\n",
       "      <td>Apple</td>\n",
       "      <td>116000</td>\n",
       "      <td>45687.0</td>\n",
       "      <td>321686</td>\n",
       "      <td>57.0</td>\n",
       "    </tr>\n",
       "    <tr>\n",
       "      <th>4</th>\n",
       "      <td>Exxon Mobil</td>\n",
       "      <td>72700</td>\n",
       "      <td>7840.0</td>\n",
       "      <td>330314</td>\n",
       "      <td>94.0</td>\n",
       "    </tr>\n",
       "    <tr>\n",
       "      <th>5</th>\n",
       "      <td>McKesson</td>\n",
       "      <td>68000</td>\n",
       "      <td>2258.0</td>\n",
       "      <td>56563</td>\n",
       "      <td>104.5</td>\n",
       "    </tr>\n",
       "  </tbody>\n",
       "</table>\n",
       "</div>"
      ],
      "text/plain": [
       "                   Title  Employees  Profits  Assets  RankByEmployee\n",
       "Rank                                                                \n",
       "1                Walmart    2300000  13643.0  198825             1.0\n",
       "2     Berkshire Hathaway     367700  24074.0  620854             7.0\n",
       "3                  Apple     116000  45687.0  321686            57.0\n",
       "4            Exxon Mobil      72700   7840.0  330314            94.0\n",
       "5               McKesson      68000   2258.0   56563           104.5"
      ]
     },
     "execution_count": 5,
     "metadata": {},
     "output_type": "execute_result"
    }
   ],
   "source": [
    "fortune['RankByEmployee'] = fortune['Employees'].rank(ascending=False)\n",
    "fortune.head()"
   ]
  },
  {
   "cell_type": "code",
   "execution_count": 6,
   "id": "a1142135",
   "metadata": {},
   "outputs": [
    {
     "data": {
      "text/plain": [
       "Rank\n",
       "1     11.0\n",
       "2      3.0\n",
       "3      1.0\n",
       "4     27.0\n",
       "5    102.0\n",
       "Name: Profits, dtype: float64"
      ]
     },
     "execution_count": 6,
     "metadata": {},
     "output_type": "execute_result"
    }
   ],
   "source": [
    "fortune['Profits'].rank(ascending=False).head()"
   ]
  },
  {
   "cell_type": "code",
   "execution_count": 7,
   "id": "64808cb7",
   "metadata": {},
   "outputs": [
    {
     "data": {
      "text/html": [
       "<div>\n",
       "<style scoped>\n",
       "    .dataframe tbody tr th:only-of-type {\n",
       "        vertical-align: middle;\n",
       "    }\n",
       "\n",
       "    .dataframe tbody tr th {\n",
       "        vertical-align: top;\n",
       "    }\n",
       "\n",
       "    .dataframe thead th {\n",
       "        text-align: right;\n",
       "    }\n",
       "</style>\n",
       "<table border=\"1\" class=\"dataframe\">\n",
       "  <thead>\n",
       "    <tr style=\"text-align: right;\">\n",
       "      <th></th>\n",
       "      <th>Title</th>\n",
       "      <th>Employees</th>\n",
       "      <th>Profits</th>\n",
       "      <th>Assets</th>\n",
       "      <th>RankByEmployee</th>\n",
       "      <th>RankByProfits</th>\n",
       "    </tr>\n",
       "    <tr>\n",
       "      <th>Rank</th>\n",
       "      <th></th>\n",
       "      <th></th>\n",
       "      <th></th>\n",
       "      <th></th>\n",
       "      <th></th>\n",
       "      <th></th>\n",
       "    </tr>\n",
       "  </thead>\n",
       "  <tbody>\n",
       "    <tr>\n",
       "      <th>1</th>\n",
       "      <td>Walmart</td>\n",
       "      <td>2300000</td>\n",
       "      <td>13643.0</td>\n",
       "      <td>198825</td>\n",
       "      <td>1.0</td>\n",
       "      <td>11.0</td>\n",
       "    </tr>\n",
       "    <tr>\n",
       "      <th>2</th>\n",
       "      <td>Berkshire Hathaway</td>\n",
       "      <td>367700</td>\n",
       "      <td>24074.0</td>\n",
       "      <td>620854</td>\n",
       "      <td>7.0</td>\n",
       "      <td>3.0</td>\n",
       "    </tr>\n",
       "    <tr>\n",
       "      <th>3</th>\n",
       "      <td>Apple</td>\n",
       "      <td>116000</td>\n",
       "      <td>45687.0</td>\n",
       "      <td>321686</td>\n",
       "      <td>57.0</td>\n",
       "      <td>1.0</td>\n",
       "    </tr>\n",
       "    <tr>\n",
       "      <th>4</th>\n",
       "      <td>Exxon Mobil</td>\n",
       "      <td>72700</td>\n",
       "      <td>7840.0</td>\n",
       "      <td>330314</td>\n",
       "      <td>94.0</td>\n",
       "      <td>27.0</td>\n",
       "    </tr>\n",
       "    <tr>\n",
       "      <th>5</th>\n",
       "      <td>McKesson</td>\n",
       "      <td>68000</td>\n",
       "      <td>2258.0</td>\n",
       "      <td>56563</td>\n",
       "      <td>104.5</td>\n",
       "      <td>102.0</td>\n",
       "    </tr>\n",
       "  </tbody>\n",
       "</table>\n",
       "</div>"
      ],
      "text/plain": [
       "                   Title  Employees  Profits  Assets  RankByEmployee  \\\n",
       "Rank                                                                   \n",
       "1                Walmart    2300000  13643.0  198825             1.0   \n",
       "2     Berkshire Hathaway     367700  24074.0  620854             7.0   \n",
       "3                  Apple     116000  45687.0  321686            57.0   \n",
       "4            Exxon Mobil      72700   7840.0  330314            94.0   \n",
       "5               McKesson      68000   2258.0   56563           104.5   \n",
       "\n",
       "      RankByProfits  \n",
       "Rank                 \n",
       "1              11.0  \n",
       "2               3.0  \n",
       "3               1.0  \n",
       "4              27.0  \n",
       "5             102.0  "
      ]
     },
     "execution_count": 7,
     "metadata": {},
     "output_type": "execute_result"
    }
   ],
   "source": [
    "fortune['RankByProfits'] = fortune['Profits'].rank(ascending=False).head()\n",
    "fortune.head()"
   ]
  },
  {
   "cell_type": "markdown",
   "id": "1c1dcdfc",
   "metadata": {},
   "source": [
    "### Top 10 employees rank"
   ]
  },
  {
   "cell_type": "code",
   "execution_count": 8,
   "id": "972cd35a",
   "metadata": {},
   "outputs": [],
   "source": [
    "isEmployessRankFirst10 = fortune['RankByEmployee'] <= 10"
   ]
  },
  {
   "cell_type": "markdown",
   "id": "85d8d420",
   "metadata": {},
   "source": [
    "### Top 10 profits rank"
   ]
  },
  {
   "cell_type": "code",
   "execution_count": 9,
   "id": "c776aedb",
   "metadata": {},
   "outputs": [],
   "source": [
    "isProfitRankFirst10 = fortune['RankByProfits'] <= 10"
   ]
  },
  {
   "cell_type": "code",
   "execution_count": 10,
   "id": "c7a5010a",
   "metadata": {},
   "outputs": [
    {
     "data": {
      "text/html": [
       "<div>\n",
       "<style scoped>\n",
       "    .dataframe tbody tr th:only-of-type {\n",
       "        vertical-align: middle;\n",
       "    }\n",
       "\n",
       "    .dataframe tbody tr th {\n",
       "        vertical-align: top;\n",
       "    }\n",
       "\n",
       "    .dataframe thead th {\n",
       "        text-align: right;\n",
       "    }\n",
       "</style>\n",
       "<table border=\"1\" class=\"dataframe\">\n",
       "  <thead>\n",
       "    <tr style=\"text-align: right;\">\n",
       "      <th></th>\n",
       "      <th>Title</th>\n",
       "      <th>Employees</th>\n",
       "      <th>Profits</th>\n",
       "      <th>Assets</th>\n",
       "      <th>RankByEmployee</th>\n",
       "      <th>RankByProfits</th>\n",
       "    </tr>\n",
       "    <tr>\n",
       "      <th>Rank</th>\n",
       "      <th></th>\n",
       "      <th></th>\n",
       "      <th></th>\n",
       "      <th></th>\n",
       "      <th></th>\n",
       "      <th></th>\n",
       "    </tr>\n",
       "  </thead>\n",
       "  <tbody>\n",
       "    <tr>\n",
       "      <th>2</th>\n",
       "      <td>Berkshire Hathaway</td>\n",
       "      <td>367700</td>\n",
       "      <td>24074.0</td>\n",
       "      <td>620854</td>\n",
       "      <td>7.0</td>\n",
       "      <td>3.0</td>\n",
       "    </tr>\n",
       "  </tbody>\n",
       "</table>\n",
       "</div>"
      ],
      "text/plain": [
       "                   Title  Employees  Profits  Assets  RankByEmployee  \\\n",
       "Rank                                                                   \n",
       "2     Berkshire Hathaway     367700  24074.0  620854             7.0   \n",
       "\n",
       "      RankByProfits  \n",
       "Rank                 \n",
       "2               3.0  "
      ]
     },
     "execution_count": 10,
     "metadata": {},
     "output_type": "execute_result"
    }
   ],
   "source": [
    "fortune[isEmployessRankFirst10 & isProfitRankFirst10]"
   ]
  },
  {
   "cell_type": "markdown",
   "id": "d4bfd9c3",
   "metadata": {},
   "source": [
    "### Companies with lowest number of employees"
   ]
  },
  {
   "cell_type": "code",
   "execution_count": 22,
   "id": "5864a5a7",
   "metadata": {},
   "outputs": [],
   "source": [
    "isEmployeesRankMore400 = fortune['RankByEmployee'] >= 400"
   ]
  },
  {
   "cell_type": "code",
   "execution_count": 23,
   "id": "cf1b2e58",
   "metadata": {},
   "outputs": [
    {
     "data": {
      "text/html": [
       "<div>\n",
       "<style scoped>\n",
       "    .dataframe tbody tr th:only-of-type {\n",
       "        vertical-align: middle;\n",
       "    }\n",
       "\n",
       "    .dataframe tbody tr th {\n",
       "        vertical-align: top;\n",
       "    }\n",
       "\n",
       "    .dataframe thead th {\n",
       "        text-align: right;\n",
       "    }\n",
       "</style>\n",
       "<table border=\"1\" class=\"dataframe\">\n",
       "  <thead>\n",
       "    <tr style=\"text-align: right;\">\n",
       "      <th></th>\n",
       "      <th>Title</th>\n",
       "      <th>Employees</th>\n",
       "      <th>Profits</th>\n",
       "      <th>Assets</th>\n",
       "      <th>RankByEmployee</th>\n",
       "      <th>RankByProfits</th>\n",
       "    </tr>\n",
       "    <tr>\n",
       "      <th>Rank</th>\n",
       "      <th></th>\n",
       "      <th></th>\n",
       "      <th></th>\n",
       "      <th></th>\n",
       "      <th></th>\n",
       "      <th></th>\n",
       "    </tr>\n",
       "  </thead>\n",
       "  <tbody>\n",
       "  </tbody>\n",
       "</table>\n",
       "</div>"
      ],
      "text/plain": [
       "Empty DataFrame\n",
       "Columns: [Title, Employees, Profits, Assets, RankByEmployee, RankByProfits]\n",
       "Index: []"
      ]
     },
     "execution_count": 23,
     "metadata": {},
     "output_type": "execute_result"
    }
   ],
   "source": [
    "fortune[isEmployeesRankMore400 & isProfitRankFirst10]"
   ]
  },
  {
   "cell_type": "markdown",
   "id": "adb115cf",
   "metadata": {},
   "source": [
    "### Conlusion: We can assume that there is no correlation between profits and number of employees."
   ]
  },
  {
   "cell_type": "code",
   "execution_count": null,
   "id": "e051d84e",
   "metadata": {},
   "outputs": [],
   "source": []
  }
 ],
 "metadata": {
  "kernelspec": {
   "display_name": "Python 3 (ipykernel)",
   "language": "python",
   "name": "python3"
  },
  "language_info": {
   "codemirror_mode": {
    "name": "ipython",
    "version": 3
   },
   "file_extension": ".py",
   "mimetype": "text/x-python",
   "name": "python",
   "nbconvert_exporter": "python",
   "pygments_lexer": "ipython3",
   "version": "3.9.15"
  }
 },
 "nbformat": 4,
 "nbformat_minor": 5
}
