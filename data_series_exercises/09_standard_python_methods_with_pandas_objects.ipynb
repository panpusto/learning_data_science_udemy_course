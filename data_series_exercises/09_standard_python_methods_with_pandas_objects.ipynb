{
 "cells": [
  {
   "cell_type": "code",
   "execution_count": 1,
   "id": "2dca3085",
   "metadata": {},
   "outputs": [],
   "source": [
    "import pandas as pd\n",
    "import numpy as np\n",
    "import matplotlib.pyplot as plt\n",
    "import math as math"
   ]
  },
  {
   "cell_type": "code",
   "execution_count": 2,
   "id": "8f778281",
   "metadata": {},
   "outputs": [
    {
     "data": {
      "text/plain": [
       "2     113750.0\n",
       "14    100000.0\n",
       "17    130000.0\n",
       "18     82500.0\n",
       "22    100764.0\n",
       "Name: Salary, dtype: float64"
      ]
     },
     "execution_count": 2,
     "metadata": {},
     "output_type": "execute_result"
    }
   ],
   "source": [
    "salary = pd.read_csv('./data/survey_results_public.csv', usecols=['Salary']).squeeze().dropna()\n",
    "salary.head()"
   ]
  },
  {
   "cell_type": "markdown",
   "id": "a42fe934",
   "metadata": {},
   "source": [
    "### amount of people who responds about their salary"
   ]
  },
  {
   "cell_type": "code",
   "execution_count": 3,
   "id": "b3dc75a8",
   "metadata": {},
   "outputs": [
    {
     "data": {
      "text/plain": [
       "12891"
      ]
     },
     "execution_count": 3,
     "metadata": {},
     "output_type": "execute_result"
    }
   ],
   "source": [
    "len(salary)"
   ]
  },
  {
   "cell_type": "markdown",
   "id": "d4f886ca",
   "metadata": {},
   "source": [
    "### lowest salary"
   ]
  },
  {
   "cell_type": "code",
   "execution_count": 4,
   "id": "15b85f3a",
   "metadata": {},
   "outputs": [
    {
     "data": {
      "text/plain": [
       "0.0"
      ]
     },
     "execution_count": 4,
     "metadata": {},
     "output_type": "execute_result"
    }
   ],
   "source": [
    "min(salary)"
   ]
  },
  {
   "cell_type": "markdown",
   "id": "91baeee0",
   "metadata": {},
   "source": [
    "### highest salary"
   ]
  },
  {
   "cell_type": "code",
   "execution_count": 5,
   "id": "0779d341",
   "metadata": {},
   "outputs": [
    {
     "data": {
      "text/plain": [
       "197000.0"
      ]
     },
     "execution_count": 5,
     "metadata": {},
     "output_type": "execute_result"
    }
   ],
   "source": [
    "max(salary)"
   ]
  },
  {
   "cell_type": "markdown",
   "id": "97786e9d",
   "metadata": {},
   "source": [
    "### convert PANDAS' data series to list and dictionary"
   ]
  },
  {
   "cell_type": "code",
   "execution_count": 6,
   "id": "ddbc7e67",
   "metadata": {},
   "outputs": [
    {
     "data": {
      "text/plain": [
       "[113750.0, 100000.0, 130000.0, 82500.0, 100764.0]"
      ]
     },
     "execution_count": 6,
     "metadata": {},
     "output_type": "execute_result"
    }
   ],
   "source": [
    "list(salary.head())"
   ]
  },
  {
   "cell_type": "code",
   "execution_count": 7,
   "id": "758b5f1f",
   "metadata": {},
   "outputs": [
    {
     "data": {
      "text/plain": [
       "{2: 113750.0, 14: 100000.0, 17: 130000.0, 18: 82500.0, 22: 100764.0}"
      ]
     },
     "execution_count": 7,
     "metadata": {},
     "output_type": "execute_result"
    }
   ],
   "source": [
    "dict(salary.head())"
   ]
  },
  {
   "cell_type": "markdown",
   "id": "87541d8d",
   "metadata": {},
   "source": [
    "### data series with sorted( )\n",
    "**it converts data series to list**"
   ]
  },
  {
   "cell_type": "code",
   "execution_count": 8,
   "id": "d02861d0",
   "metadata": {},
   "outputs": [],
   "source": [
    "listSalarySorted = sorted(salary, reverse=True)"
   ]
  },
  {
   "cell_type": "markdown",
   "id": "2460a5d9",
   "metadata": {},
   "source": [
    "### display first 5 elements"
   ]
  },
  {
   "cell_type": "code",
   "execution_count": 9,
   "id": "cecb8994",
   "metadata": {},
   "outputs": [
    {
     "data": {
      "text/plain": [
       "[197000.0, 195000.0, 195000.0, 195000.0, 195000.0]"
      ]
     },
     "execution_count": 9,
     "metadata": {},
     "output_type": "execute_result"
    }
   ],
   "source": [
    "listSalarySorted[:5]"
   ]
  },
  {
   "cell_type": "markdown",
   "id": "93f22749",
   "metadata": {},
   "source": [
    "### rename the 'Name' attribute"
   ]
  },
  {
   "cell_type": "code",
   "execution_count": 10,
   "id": "975f712d",
   "metadata": {},
   "outputs": [],
   "source": [
    "salary.name = 'Salary of a person'"
   ]
  },
  {
   "cell_type": "code",
   "execution_count": 11,
   "id": "f8cb0314",
   "metadata": {},
   "outputs": [
    {
     "data": {
      "text/plain": [
       "2     113750.0\n",
       "14    100000.0\n",
       "17    130000.0\n",
       "18     82500.0\n",
       "22    100764.0\n",
       "Name: Salary of a person, dtype: float64"
      ]
     },
     "execution_count": 11,
     "metadata": {},
     "output_type": "execute_result"
    }
   ],
   "source": [
    "salary.head()"
   ]
  },
  {
   "cell_type": "code",
   "execution_count": null,
   "id": "228466ba",
   "metadata": {},
   "outputs": [],
   "source": []
  }
 ],
 "metadata": {
  "kernelspec": {
   "display_name": "Python 3 (ipykernel)",
   "language": "python",
   "name": "python3"
  },
  "language_info": {
   "codemirror_mode": {
    "name": "ipython",
    "version": 3
   },
   "file_extension": ".py",
   "mimetype": "text/x-python",
   "name": "python",
   "nbconvert_exporter": "python",
   "pygments_lexer": "ipython3",
   "version": "3.9.15"
  }
 },
 "nbformat": 4,
 "nbformat_minor": 5
}
