{
 "cells": [
  {
   "cell_type": "code",
   "execution_count": 1,
   "id": "d4613c40",
   "metadata": {},
   "outputs": [],
   "source": [
    "import pandas as pd\n",
    "import random as rd"
   ]
  },
  {
   "cell_type": "code",
   "execution_count": 2,
   "id": "2009ef4f",
   "metadata": {},
   "outputs": [],
   "source": [
    "airplanesDict = {'PYT001': 'Airbus 320', 'PYT002': 'Boeing 737', 'PYT003': 'Airbus 321'}"
   ]
  },
  {
   "cell_type": "code",
   "execution_count": 3,
   "id": "db3109cd",
   "metadata": {},
   "outputs": [
    {
     "data": {
      "text/plain": [
       "PYT001    Airbus 320\n",
       "PYT002    Boeing 737\n",
       "PYT003    Airbus 321\n",
       "dtype: object"
      ]
     },
     "execution_count": 3,
     "metadata": {},
     "output_type": "execute_result"
    }
   ],
   "source": [
    "airplanes = pd.Series(airplanesDict)\n",
    "airplanes.head()"
   ]
  },
  {
   "cell_type": "code",
   "execution_count": 4,
   "id": "661d1c17",
   "metadata": {},
   "outputs": [
    {
     "data": {
      "text/plain": [
       "pandas.core.series.Series"
      ]
     },
     "execution_count": 4,
     "metadata": {},
     "output_type": "execute_result"
    }
   ],
   "source": [
    "type(airplanes)"
   ]
  },
  {
   "cell_type": "code",
   "execution_count": 5,
   "id": "8a4d4d02",
   "metadata": {},
   "outputs": [
    {
     "data": {
      "text/plain": [
       "['PYT003', 'PYT002', 'PYT002', 'PYT001', 'PYT003']"
      ]
     },
     "execution_count": 5,
     "metadata": {},
     "output_type": "execute_result"
    }
   ],
   "source": [
    "flightsList = []\n",
    "for _ in range(100):\n",
    "    flightsList.append(rd.choice(airplanes.index))\n",
    "\n",
    "flightsList[:5]"
   ]
  },
  {
   "cell_type": "code",
   "execution_count": 6,
   "id": "d0817bb3",
   "metadata": {},
   "outputs": [
    {
     "data": {
      "text/plain": [
       "0    PYT003\n",
       "1    PYT002\n",
       "2    PYT002\n",
       "3    PYT001\n",
       "4    PYT003\n",
       "dtype: object"
      ]
     },
     "execution_count": 6,
     "metadata": {},
     "output_type": "execute_result"
    }
   ],
   "source": [
    "flights = pd.Series(flightsList)\n",
    "flights.head()"
   ]
  },
  {
   "cell_type": "code",
   "execution_count": 7,
   "id": "ab92fdb1",
   "metadata": {},
   "outputs": [
    {
     "data": {
      "text/plain": [
       "0    Airbus 321\n",
       "1    Boeing 737\n",
       "2    Boeing 737\n",
       "3    Airbus 320\n",
       "4    Airbus 321\n",
       "dtype: object"
      ]
     },
     "execution_count": 7,
     "metadata": {},
     "output_type": "execute_result"
    }
   ],
   "source": [
    "flights_airplanes = flights.map(airplanes)\n",
    "flights_airplanes.head()"
   ]
  },
  {
   "cell_type": "code",
   "execution_count": null,
   "id": "ef84401b",
   "metadata": {},
   "outputs": [],
   "source": []
  }
 ],
 "metadata": {
  "kernelspec": {
   "display_name": "Python 3 (ipykernel)",
   "language": "python",
   "name": "python3"
  },
  "language_info": {
   "codemirror_mode": {
    "name": "ipython",
    "version": 3
   },
   "file_extension": ".py",
   "mimetype": "text/x-python",
   "name": "python",
   "nbconvert_exporter": "python",
   "pygments_lexer": "ipython3",
   "version": "3.9.15"
  }
 },
 "nbformat": 4,
 "nbformat_minor": 5
}
