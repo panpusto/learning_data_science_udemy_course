{
 "cells": [
  {
   "cell_type": "code",
   "execution_count": 1,
   "id": "10c4dec5",
   "metadata": {},
   "outputs": [],
   "source": [
    "import pandas as pd"
   ]
  },
  {
   "cell_type": "code",
   "execution_count": 2,
   "id": "18bf5f5b",
   "metadata": {},
   "outputs": [
    {
     "data": {
      "text/plain": [
       "Rank\n",
       "1               Walmart\n",
       "2    Berkshire Hathaway\n",
       "3                 Apple\n",
       "4           Exxon Mobil\n",
       "5              McKesson\n",
       "Name: Title, dtype: object"
      ]
     },
     "execution_count": 2,
     "metadata": {},
     "output_type": "execute_result"
    }
   ],
   "source": [
    "fortune500 = pd.read_csv('./data/fortune_500_2017.csv', \n",
    "                         usecols=['Rank', 'Title'], \n",
    "                         index_col=['Rank']).squeeze()\n",
    "fortune500.head()"
   ]
  },
  {
   "cell_type": "markdown",
   "id": "e2037c8d",
   "metadata": {},
   "source": [
    "### Top 10 companies at Fortune500 list"
   ]
  },
  {
   "cell_type": "code",
   "execution_count": 3,
   "id": "86481090",
   "metadata": {},
   "outputs": [
    {
     "data": {
      "text/plain": [
       "Rank\n",
       "1                Walmart\n",
       "2     Berkshire Hathaway\n",
       "3                  Apple\n",
       "4            Exxon Mobil\n",
       "5               McKesson\n",
       "6     UnitedHealth Group\n",
       "7             CVS Health\n",
       "8         General Motors\n",
       "9                   AT&T\n",
       "10            Ford Motor\n",
       "Name: Title, dtype: object"
      ]
     },
     "execution_count": 3,
     "metadata": {},
     "output_type": "execute_result"
    }
   ],
   "source": [
    "fortune500[:10]"
   ]
  },
  {
   "cell_type": "markdown",
   "id": "004274a1",
   "metadata": {},
   "source": [
    "### Last 20 companies at Fortune500 list"
   ]
  },
  {
   "cell_type": "code",
   "execution_count": 4,
   "id": "acf2ef09",
   "metadata": {},
   "outputs": [
    {
     "data": {
      "text/plain": [
       "Rank\n",
       "481           Booz Allen Hamilton Holding\n",
       "482                              Chemours\n",
       "483    Western & Southern Financial Group\n",
       "484                              Celanese\n",
       "485                   Windstream Holdings\n",
       "486                              Seaboard\n",
       "487                             Essendant\n",
       "488                                Apache\n",
       "489                                Airgas\n",
       "490                        Kelly Services\n",
       "491                         Liberty Media\n",
       "492                      Rockwell Collins\n",
       "493             Robert Half International\n",
       "494                             CH2M Hill\n",
       "495                              Big Lots\n",
       "496                         Michaels Cos.\n",
       "497                         Toll Brothers\n",
       "498                                 Yahoo\n",
       "499                         Vistra Energy\n",
       "500                        ABM Industries\n",
       "Name: Title, dtype: object"
      ]
     },
     "execution_count": 4,
     "metadata": {},
     "output_type": "execute_result"
    }
   ],
   "source": [
    "fortune500[-20:]"
   ]
  },
  {
   "cell_type": "markdown",
   "id": "fdf9d7ff",
   "metadata": {},
   "source": [
    "### import data with another index column"
   ]
  },
  {
   "cell_type": "code",
   "execution_count": 5,
   "id": "473e9b9a",
   "metadata": {},
   "outputs": [
    {
     "data": {
      "text/plain": [
       "Title\n",
       "Walmart               2300000\n",
       "Berkshire Hathaway     367700\n",
       "Apple                  116000\n",
       "Exxon Mobil             72700\n",
       "McKesson                68000\n",
       "Name: Employees, dtype: int64"
      ]
     },
     "execution_count": 5,
     "metadata": {},
     "output_type": "execute_result"
    }
   ],
   "source": [
    "fortune500Employees = pd.read_csv('./data/fortune_500_2017.csv', \n",
    "                                  usecols=['Title', 'Employees'], \n",
    "                                  index_col='Title').squeeze()\n",
    "fortune500Employees.head()"
   ]
  },
  {
   "cell_type": "markdown",
   "id": "3e4c309f",
   "metadata": {},
   "source": [
    "### number of employees for IBM, Alphabet, Facebook and Apple"
   ]
  },
  {
   "cell_type": "code",
   "execution_count": 6,
   "id": "9cae18ba",
   "metadata": {},
   "outputs": [],
   "source": [
    "companiesToCheck = ['IBM', 'Alphabet', 'Facebook', 'Apple']"
   ]
  },
  {
   "cell_type": "code",
   "execution_count": 9,
   "id": "d097bddc",
   "metadata": {},
   "outputs": [
    {
     "data": {
      "text/plain": [
       "Title\n",
       "Apple       116000\n",
       "Alphabet     72053\n",
       "IBM         414400\n",
       "Facebook     17048\n",
       "Name: Employees, dtype: int64"
      ]
     },
     "execution_count": 9,
     "metadata": {},
     "output_type": "execute_result"
    }
   ],
   "source": [
    "fortune500Employees.loc[fortune500Employees.index.intersection(companiesToCheck)]"
   ]
  },
  {
   "cell_type": "markdown",
   "id": "5a666495",
   "metadata": {},
   "source": [
    "### number of employees for companies from IBM to Intel"
   ]
  },
  {
   "cell_type": "code",
   "execution_count": 10,
   "id": "ddc2229d",
   "metadata": {},
   "outputs": [
    {
     "data": {
      "text/plain": [
       "Title\n",
       "IBM                          414400\n",
       "State Farm Insurance Cos.     68234\n",
       "Phillips 66                   14800\n",
       "Johnson & Johnson            126400\n",
       "Procter & Gamble             105000\n",
       "Valero Energy                  9996\n",
       "Target                       323000\n",
       "Freddie Mac                    5982\n",
       "Lowe’s                       240000\n",
       "Dell Technologies            138000\n",
       "MetLife                       58000\n",
       "Aetna                         49500\n",
       "PepsiCo                      264000\n",
       "Archer Daniels Midland        31800\n",
       "UPS                          335520\n",
       "Intel                        106000\n",
       "Name: Employees, dtype: int64"
      ]
     },
     "execution_count": 10,
     "metadata": {},
     "output_type": "execute_result"
    }
   ],
   "source": [
    "fortune500Employees.loc['IBM':'Intel']"
   ]
  },
  {
   "cell_type": "code",
   "execution_count": null,
   "id": "84364ff3",
   "metadata": {},
   "outputs": [],
   "source": []
  }
 ],
 "metadata": {
  "kernelspec": {
   "display_name": "Python 3 (ipykernel)",
   "language": "python",
   "name": "python3"
  },
  "language_info": {
   "codemirror_mode": {
    "name": "ipython",
    "version": 3
   },
   "file_extension": ".py",
   "mimetype": "text/x-python",
   "name": "python",
   "nbconvert_exporter": "python",
   "pygments_lexer": "ipython3",
   "version": "3.9.15"
  }
 },
 "nbformat": 4,
 "nbformat_minor": 5
}
