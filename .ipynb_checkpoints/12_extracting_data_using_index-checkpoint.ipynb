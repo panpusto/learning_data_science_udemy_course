{
 "cells": [
  {
   "cell_type": "code",
   "execution_count": 1,
   "id": "509a1955",
   "metadata": {},
   "outputs": [],
   "source": [
    "import pandas as pd"
   ]
  },
  {
   "cell_type": "code",
   "execution_count": 2,
   "id": "c1afedfa",
   "metadata": {},
   "outputs": [
    {
     "data": {
      "text/plain": [
       "1          20 to 99 employees\n",
       "2    10,000 or more employees\n",
       "3    10,000 or more employees\n",
       "4          10 to 19 employees\n",
       "6          20 to 99 employees\n",
       "Name: CompanySize, dtype: object"
      ]
     },
     "execution_count": 2,
     "metadata": {},
     "output_type": "execute_result"
    }
   ],
   "source": [
    "surveys = pd.read_csv('./data/survey_results_public.csv', usecols=['CompanySize']).squeeze().dropna()\n",
    "surveys.head()"
   ]
  },
  {
   "cell_type": "markdown",
   "id": "d85a0b2b",
   "metadata": {},
   "source": [
    "**display value with index n**"
   ]
  },
  {
   "cell_type": "code",
   "execution_count": 3,
   "id": "53015c83",
   "metadata": {},
   "outputs": [
    {
     "data": {
      "text/plain": [
       "'10,000 or more employees'"
      ]
     },
     "execution_count": 3,
     "metadata": {},
     "output_type": "execute_result"
    }
   ],
   "source": [
    "surveys[3]"
   ]
  },
  {
   "cell_type": "code",
   "execution_count": 4,
   "id": "91bb217c",
   "metadata": {},
   "outputs": [
    {
     "data": {
      "text/plain": [
       "2     10,000 or more employees\n",
       "3     10,000 or more employees\n",
       "4           10 to 19 employees\n",
       "6           20 to 99 employees\n",
       "7      Fewer than 10 employees\n",
       "8     5,000 to 9,999 employees\n",
       "10        100 to 499 employees\n",
       "11        100 to 499 employees\n",
       "13     Fewer than 10 employees\n",
       "14    5,000 to 9,999 employees\n",
       "Name: CompanySize, dtype: object"
      ]
     },
     "execution_count": 4,
     "metadata": {},
     "output_type": "execute_result"
    }
   ],
   "source": [
    "surveys[1:11]"
   ]
  },
  {
   "cell_type": "code",
   "execution_count": 5,
   "id": "b96af1fe",
   "metadata": {},
   "outputs": [
    {
     "data": {
      "text/plain": [
       "'20 to 99 employees'"
      ]
     },
     "execution_count": 5,
     "metadata": {},
     "output_type": "execute_result"
    }
   ],
   "source": [
    "surveys[12345]"
   ]
  },
  {
   "cell_type": "code",
   "execution_count": 6,
   "id": "62d7448b",
   "metadata": {},
   "outputs": [
    {
     "data": {
      "text/plain": [
       "15989    1,000 to 4,999 employees\n",
       "15991          20 to 99 employees\n",
       "15992          10 to 19 employees\n",
       "15993    1,000 to 4,999 employees\n",
       "15994          20 to 99 employees\n",
       "15995        100 to 499 employees\n",
       "15996          10 to 19 employees\n",
       "15997                I don't know\n",
       "15998          20 to 99 employees\n",
       "15999        100 to 499 employees\n",
       "Name: CompanySize, dtype: object"
      ]
     },
     "execution_count": 6,
     "metadata": {},
     "output_type": "execute_result"
    }
   ],
   "source": [
    "surveys[12341:12351]"
   ]
  },
  {
   "cell_type": "markdown",
   "id": "c7d7a25a",
   "metadata": {},
   "source": [
    "### sorting data series"
   ]
  },
  {
   "cell_type": "code",
   "execution_count": 7,
   "id": "62e4f3c0",
   "metadata": {},
   "outputs": [],
   "source": [
    "surveys.sort_values(inplace=True)"
   ]
  },
  {
   "cell_type": "code",
   "execution_count": 8,
   "id": "ca3ab4c2",
   "metadata": {},
   "outputs": [
    {
     "data": {
      "text/plain": [
       "'10,000 or more employees'"
      ]
     },
     "execution_count": 8,
     "metadata": {},
     "output_type": "execute_result"
    }
   ],
   "source": [
    "surveys[3]"
   ]
  },
  {
   "cell_type": "code",
   "execution_count": 9,
   "id": "d6e320c4",
   "metadata": {},
   "outputs": [
    {
     "data": {
      "text/plain": [
       "36683    1,000 to 4,999 employees\n",
       "43105    1,000 to 4,999 employees\n",
       "43102    1,000 to 4,999 employees\n",
       "30582    1,000 to 4,999 employees\n",
       "43072    1,000 to 4,999 employees\n",
       "43063    1,000 to 4,999 employees\n",
       "23955    1,000 to 4,999 employees\n",
       "43060    1,000 to 4,999 employees\n",
       "43056    1,000 to 4,999 employees\n",
       "30558    1,000 to 4,999 employees\n",
       "Name: CompanySize, dtype: object"
      ]
     },
     "execution_count": 9,
     "metadata": {},
     "output_type": "execute_result"
    }
   ],
   "source": [
    "surveys[1:11]"
   ]
  },
  {
   "cell_type": "code",
   "execution_count": 10,
   "id": "abe8d88a",
   "metadata": {},
   "outputs": [
    {
     "data": {
      "text/plain": [
       "'20 to 99 employees'"
      ]
     },
     "execution_count": 10,
     "metadata": {},
     "output_type": "execute_result"
    }
   ],
   "source": [
    "surveys[12345]"
   ]
  },
  {
   "cell_type": "code",
   "execution_count": 13,
   "id": "e3e65dff",
   "metadata": {},
   "outputs": [
    {
     "data": {
      "text/plain": [
       "14554    10,000 or more employees\n",
       "9429     10,000 or more employees\n",
       "6384     10,000 or more employees\n",
       "1102     10,000 or more employees\n",
       "14549    10,000 or more employees\n",
       "14547    10,000 or more employees\n",
       "14570    10,000 or more employees\n",
       "14575    10,000 or more employees\n",
       "6410     10,000 or more employees\n",
       "14576    10,000 or more employees\n",
       "Name: CompanySize, dtype: object"
      ]
     },
     "execution_count": 13,
     "metadata": {},
     "output_type": "execute_result"
    }
   ],
   "source": [
    "surveys[12341:12351]"
   ]
  },
  {
   "cell_type": "markdown",
   "id": "aef07176",
   "metadata": {},
   "source": [
    "### reset_index( )"
   ]
  },
  {
   "cell_type": "code",
   "execution_count": 14,
   "id": "7f7a191b",
   "metadata": {},
   "outputs": [],
   "source": [
    "surveys.reset_index(drop=True, inplace=True)"
   ]
  },
  {
   "cell_type": "code",
   "execution_count": 15,
   "id": "26e312a0",
   "metadata": {},
   "outputs": [
    {
     "data": {
      "text/plain": [
       "'1,000 to 4,999 employees'"
      ]
     },
     "execution_count": 15,
     "metadata": {},
     "output_type": "execute_result"
    }
   ],
   "source": [
    "surveys[3]"
   ]
  },
  {
   "cell_type": "code",
   "execution_count": 16,
   "id": "c00ff528",
   "metadata": {},
   "outputs": [
    {
     "data": {
      "text/plain": [
       "1     1,000 to 4,999 employees\n",
       "2     1,000 to 4,999 employees\n",
       "3     1,000 to 4,999 employees\n",
       "4     1,000 to 4,999 employees\n",
       "5     1,000 to 4,999 employees\n",
       "6     1,000 to 4,999 employees\n",
       "7     1,000 to 4,999 employees\n",
       "8     1,000 to 4,999 employees\n",
       "9     1,000 to 4,999 employees\n",
       "10    1,000 to 4,999 employees\n",
       "Name: CompanySize, dtype: object"
      ]
     },
     "execution_count": 16,
     "metadata": {},
     "output_type": "execute_result"
    }
   ],
   "source": [
    "surveys[1:11]"
   ]
  },
  {
   "cell_type": "code",
   "execution_count": 17,
   "id": "1d6216f7",
   "metadata": {},
   "outputs": [
    {
     "data": {
      "text/plain": [
       "'10,000 or more employees'"
      ]
     },
     "execution_count": 17,
     "metadata": {},
     "output_type": "execute_result"
    }
   ],
   "source": [
    "surveys[12345]"
   ]
  },
  {
   "cell_type": "code",
   "execution_count": 18,
   "id": "c925ba42",
   "metadata": {},
   "outputs": [
    {
     "data": {
      "text/plain": [
       "12341    10,000 or more employees\n",
       "12342    10,000 or more employees\n",
       "12343    10,000 or more employees\n",
       "12344    10,000 or more employees\n",
       "12345    10,000 or more employees\n",
       "12346    10,000 or more employees\n",
       "12347    10,000 or more employees\n",
       "12348    10,000 or more employees\n",
       "12349    10,000 or more employees\n",
       "12350    10,000 or more employees\n",
       "Name: CompanySize, dtype: object"
      ]
     },
     "execution_count": 18,
     "metadata": {},
     "output_type": "execute_result"
    }
   ],
   "source": [
    "surveys[12341:12351]"
   ]
  },
  {
   "cell_type": "markdown",
   "id": "23fdefe2",
   "metadata": {},
   "source": [
    "### sorting methods just reordered the items but didn't rebuild the index. Some commands retrive values based on the index, while other rely only on the order of the elements. That's why some of the returned results seem contradictory. The solution is rebuilding the index with reset_index method."
   ]
  },
  {
   "cell_type": "code",
   "execution_count": null,
   "id": "659d3ac0",
   "metadata": {},
   "outputs": [],
   "source": []
  }
 ],
 "metadata": {
  "kernelspec": {
   "display_name": "Python 3 (ipykernel)",
   "language": "python",
   "name": "python3"
  },
  "language_info": {
   "codemirror_mode": {
    "name": "ipython",
    "version": 3
   },
   "file_extension": ".py",
   "mimetype": "text/x-python",
   "name": "python",
   "nbconvert_exporter": "python",
   "pygments_lexer": "ipython3",
   "version": "3.9.15"
  }
 },
 "nbformat": 4,
 "nbformat_minor": 5
}
