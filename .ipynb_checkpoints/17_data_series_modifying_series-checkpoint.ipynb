{
 "cells": [
  {
   "cell_type": "code",
   "execution_count": 1,
   "id": "16f57603",
   "metadata": {},
   "outputs": [],
   "source": [
    "import pandas as pd"
   ]
  },
  {
   "cell_type": "code",
   "execution_count": 3,
   "id": "a1c86a6b",
   "metadata": {},
   "outputs": [
    {
     "data": {
      "text/plain": [
       "1     51000\n",
       "4    260000\n",
       "5     30000\n",
       "6    120000\n",
       "8    250000\n",
       "Name: Salary, dtype: object"
      ]
     },
     "execution_count": 3,
     "metadata": {},
     "output_type": "execute_result"
    }
   ],
   "source": [
    "surveys = pd.read_csv('../stack-overflow-developer-survey-2018/survey_results_public.csv', \n",
    "                      usecols=['Salary'],\n",
    "                      low_memory=False).squeeze().dropna()\n",
    "surveys.head()"
   ]
  },
  {
   "cell_type": "markdown",
   "id": "b16ab2c2",
   "metadata": {},
   "source": [
    "## number of people who gave information about salary"
   ]
  },
  {
   "cell_type": "code",
   "execution_count": 5,
   "id": "8505696b",
   "metadata": {},
   "outputs": [
    {
     "data": {
      "text/plain": [
       "50578"
      ]
     },
     "execution_count": 5,
     "metadata": {},
     "output_type": "execute_result"
    }
   ],
   "source": [
    "surveys.count()"
   ]
  },
  {
   "cell_type": "code",
   "execution_count": null,
   "id": "fe3b57e2",
   "metadata": {},
   "outputs": [],
   "source": []
  }
 ],
 "metadata": {
  "kernelspec": {
   "display_name": "Python 3 (ipykernel)",
   "language": "python",
   "name": "python3"
  },
  "language_info": {
   "codemirror_mode": {
    "name": "ipython",
    "version": 3
   },
   "file_extension": ".py",
   "mimetype": "text/x-python",
   "name": "python",
   "nbconvert_exporter": "python",
   "pygments_lexer": "ipython3",
   "version": "3.9.15"
  }
 },
 "nbformat": 4,
 "nbformat_minor": 5
}
