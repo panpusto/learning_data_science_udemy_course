{
 "cells": [
  {
   "cell_type": "code",
   "execution_count": 1,
   "id": "8453c3ae",
   "metadata": {},
   "outputs": [],
   "source": [
    "import pandas as pd\n",
    "import numpy as np\n",
    "import matplotlib.pyplot as plt\n",
    "import math as math"
   ]
  },
  {
   "cell_type": "code",
   "execution_count": 2,
   "id": "f290fca6",
   "metadata": {},
   "outputs": [],
   "source": [
    "weekdays = ['Monday', 'Tuesday', 'Wednesday', 'Thursday', 'Firday', 'Saturday', 'Sunday']"
   ]
  },
  {
   "cell_type": "markdown",
   "id": "b7fb0131",
   "metadata": {},
   "source": [
    "## create data series from table using Pandas\n",
    "*this method creates automatic index column, starting from 0*"
   ]
  },
  {
   "cell_type": "code",
   "execution_count": 3,
   "id": "00e524a8",
   "metadata": {},
   "outputs": [],
   "source": [
    "weekdaysSeries = pd.Series(weekdays)"
   ]
  },
  {
   "cell_type": "code",
   "execution_count": 4,
   "id": "c4429acc",
   "metadata": {},
   "outputs": [
    {
     "data": {
      "text/plain": [
       "0       Monday\n",
       "1      Tuesday\n",
       "2    Wednesday\n",
       "3     Thursday\n",
       "4       Firday\n",
       "5     Saturday\n",
       "6       Sunday\n",
       "dtype: object"
      ]
     },
     "execution_count": 4,
     "metadata": {},
     "output_type": "execute_result"
    }
   ],
   "source": [
    "weekdaysSeries"
   ]
  },
  {
   "cell_type": "code",
   "execution_count": 5,
   "id": "9b60d371",
   "metadata": {},
   "outputs": [],
   "source": [
    "freeDays = [False, False, False, False, False, True, True]"
   ]
  },
  {
   "cell_type": "code",
   "execution_count": 6,
   "id": "ddfb16f4",
   "metadata": {},
   "outputs": [
    {
     "data": {
      "text/plain": [
       "0    False\n",
       "1    False\n",
       "2    False\n",
       "3    False\n",
       "4    False\n",
       "5     True\n",
       "6     True\n",
       "dtype: bool"
      ]
     },
     "execution_count": 6,
     "metadata": {},
     "output_type": "execute_result"
    }
   ],
   "source": [
    "freeDaysSeries = pd.Series(freeDays)\n",
    "freeDaysSeries"
   ]
  },
  {
   "cell_type": "markdown",
   "id": "2ff698f0",
   "metadata": {},
   "source": [
    "## create data series from hash table (dictionary) using Pandas \n",
    "*this method creates own index; in this case it's holiday's name*"
   ]
  },
  {
   "cell_type": "code",
   "execution_count": 7,
   "id": "b3fc9bc0",
   "metadata": {},
   "outputs": [],
   "source": [
    "holidays = {\n",
    "    'New Year': '2022-01-01',\n",
    "    'Epiphany': '2022-01-06',\n",
    "    'Easter': '2022-04-09',\n",
    "}"
   ]
  },
  {
   "cell_type": "code",
   "execution_count": 8,
   "id": "96f4c60e",
   "metadata": {},
   "outputs": [
    {
     "data": {
      "text/plain": [
       "New Year    2022-01-01\n",
       "Epiphany    2022-01-06\n",
       "Easter      2022-04-09\n",
       "dtype: object"
      ]
     },
     "execution_count": 8,
     "metadata": {},
     "output_type": "execute_result"
    }
   ],
   "source": [
    "holidaysSeries = pd.Series(holidays)\n",
    "holidaysSeries"
   ]
  },
  {
   "cell_type": "code",
   "execution_count": null,
   "id": "f9cfb447",
   "metadata": {},
   "outputs": [],
   "source": []
  }
 ],
 "metadata": {
  "kernelspec": {
   "display_name": "Python 3 (ipykernel)",
   "language": "python",
   "name": "python3"
  },
  "language_info": {
   "codemirror_mode": {
    "name": "ipython",
    "version": 3
   },
   "file_extension": ".py",
   "mimetype": "text/x-python",
   "name": "python",
   "nbconvert_exporter": "python",
   "pygments_lexer": "ipython3",
   "version": "3.9.15"
  }
 },
 "nbformat": 4,
 "nbformat_minor": 5
}
