{
 "cells": [
  {
   "cell_type": "code",
   "execution_count": 1,
   "id": "f9d65b19",
   "metadata": {},
   "outputs": [],
   "source": [
    "import pandas as pd"
   ]
  },
  {
   "cell_type": "markdown",
   "id": "bb6c232e",
   "metadata": {},
   "source": [
    "## Stack Overflow Developer Survey 2018"
   ]
  },
  {
   "cell_type": "code",
   "execution_count": 4,
   "id": "d3242032",
   "metadata": {},
   "outputs": [
    {
     "data": {
      "text/plain": [
       "1    70841.0\n",
       "4    21426.0\n",
       "Name: ConvertedSalary, dtype: float64"
      ]
     },
     "execution_count": 4,
     "metadata": {},
     "output_type": "execute_result"
    }
   ],
   "source": [
    "programmers = pd.read_csv('../stack-overflow-developer-survey-2018/survey_results_public.csv', \n",
    "                          low_memory=False, \n",
    "                          usecols=['ConvertedSalary']).squeeze()\n",
    "programmers.head().dropna()"
   ]
  },
  {
   "cell_type": "markdown",
   "id": "82ccb1fe",
   "metadata": {},
   "source": [
    "### average annual salary"
   ]
  },
  {
   "cell_type": "code",
   "execution_count": 5,
   "id": "6774ea98",
   "metadata": {},
   "outputs": [
    {
     "data": {
      "text/plain": [
       "95780.86178776571"
      ]
     },
     "execution_count": 5,
     "metadata": {},
     "output_type": "execute_result"
    }
   ],
   "source": [
    "programmers.mean()"
   ]
  },
  {
   "cell_type": "markdown",
   "id": "7940c2e2",
   "metadata": {},
   "source": [
    "### median"
   ]
  },
  {
   "cell_type": "code",
   "execution_count": 6,
   "id": "b920cd80",
   "metadata": {},
   "outputs": [
    {
     "data": {
      "text/plain": [
       "55075.0"
      ]
     },
     "execution_count": 6,
     "metadata": {},
     "output_type": "execute_result"
    }
   ],
   "source": [
    "programmers.median()"
   ]
  },
  {
   "cell_type": "markdown",
   "id": "e0d014a7",
   "metadata": {},
   "source": [
    "### standard deviation"
   ]
  },
  {
   "cell_type": "code",
   "execution_count": 7,
   "id": "04e28cd8",
   "metadata": {},
   "outputs": [
    {
     "data": {
      "text/plain": [
       "202348.21562528735"
      ]
     },
     "execution_count": 7,
     "metadata": {},
     "output_type": "execute_result"
    }
   ],
   "source": [
    "programmers.std()"
   ]
  },
  {
   "cell_type": "markdown",
   "id": "e8732806",
   "metadata": {},
   "source": [
    "Comment: The standard deviation value seems to be too high. Maybe data is unreliable."
   ]
  },
  {
   "cell_type": "markdown",
   "id": "64086d2f",
   "metadata": {},
   "source": [
    "### highest annual salary value"
   ]
  },
  {
   "cell_type": "code",
   "execution_count": 8,
   "id": "23c177ec",
   "metadata": {},
   "outputs": [
    {
     "data": {
      "text/plain": [
       "2000000.0"
      ]
     },
     "execution_count": 8,
     "metadata": {},
     "output_type": "execute_result"
    }
   ],
   "source": [
    "programmers.max()"
   ]
  },
  {
   "cell_type": "markdown",
   "id": "24ad3f5e",
   "metadata": {},
   "source": [
    "## Fortune 500"
   ]
  },
  {
   "cell_type": "code",
   "execution_count": 9,
   "id": "e5a786d2",
   "metadata": {},
   "outputs": [
    {
     "data": {
      "text/plain": [
       "Title\n",
       "Walmart               2300000\n",
       "Berkshire Hathaway     367700\n",
       "Apple                  116000\n",
       "Exxon Mobil             72700\n",
       "McKesson                68000\n",
       "Name: Employees, dtype: int64"
      ]
     },
     "execution_count": 9,
     "metadata": {},
     "output_type": "execute_result"
    }
   ],
   "source": [
    "fortune500 = pd.read_csv('./data/fortune_500_2017.csv',\n",
    "                         usecols=['Title', 'Employees'],\n",
    "                         index_col='Title').squeeze()\n",
    "fortune500.head()"
   ]
  },
  {
   "cell_type": "markdown",
   "id": "63baf754",
   "metadata": {},
   "source": [
    "### company with the highest number of employees"
   ]
  },
  {
   "cell_type": "code",
   "execution_count": 10,
   "id": "aeeb37f6",
   "metadata": {},
   "outputs": [
    {
     "data": {
      "text/plain": [
       "'Walmart'"
      ]
     },
     "execution_count": 10,
     "metadata": {},
     "output_type": "execute_result"
    }
   ],
   "source": [
    "fortune500.idxmax()"
   ]
  },
  {
   "cell_type": "code",
   "execution_count": 11,
   "id": "fc6016ce",
   "metadata": {},
   "outputs": [
    {
     "data": {
      "text/plain": [
       "2300000"
      ]
     },
     "execution_count": 11,
     "metadata": {},
     "output_type": "execute_result"
    }
   ],
   "source": [
    "fortune500.loc['Walmart']"
   ]
  },
  {
   "cell_type": "code",
   "execution_count": 12,
   "id": "a54e24ed",
   "metadata": {},
   "outputs": [
    {
     "data": {
      "text/plain": [
       "2300000"
      ]
     },
     "execution_count": 12,
     "metadata": {},
     "output_type": "execute_result"
    }
   ],
   "source": [
    "fortune500.loc[fortune500.idxmax()]"
   ]
  },
  {
   "cell_type": "markdown",
   "id": "abe655c9",
   "metadata": {},
   "source": [
    "## company withe the lowest number of employees"
   ]
  },
  {
   "cell_type": "code",
   "execution_count": 13,
   "id": "8eb179a3",
   "metadata": {},
   "outputs": [
    {
     "data": {
      "text/plain": [
       "'A-Mark Precious Metals'"
      ]
     },
     "execution_count": 13,
     "metadata": {},
     "output_type": "execute_result"
    }
   ],
   "source": [
    "fortune500.idxmin()"
   ]
  },
  {
   "cell_type": "code",
   "execution_count": 14,
   "id": "9183d54d",
   "metadata": {},
   "outputs": [
    {
     "data": {
      "text/plain": [
       "83"
      ]
     },
     "execution_count": 14,
     "metadata": {},
     "output_type": "execute_result"
    }
   ],
   "source": [
    "fortune500.loc[fortune500.idxmin()]"
   ]
  },
  {
   "cell_type": "code",
   "execution_count": null,
   "id": "286be180",
   "metadata": {},
   "outputs": [],
   "source": []
  }
 ],
 "metadata": {
  "kernelspec": {
   "display_name": "Python 3 (ipykernel)",
   "language": "python",
   "name": "python3"
  },
  "language_info": {
   "codemirror_mode": {
    "name": "ipython",
    "version": 3
   },
   "file_extension": ".py",
   "mimetype": "text/x-python",
   "name": "python",
   "nbconvert_exporter": "python",
   "pygments_lexer": "ipython3",
   "version": "3.9.15"
  }
 },
 "nbformat": 4,
 "nbformat_minor": 5
}
