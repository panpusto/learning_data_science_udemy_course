{
 "cells": [
  {
   "cell_type": "code",
   "execution_count": 1,
   "id": "8b44a4c1",
   "metadata": {},
   "outputs": [],
   "source": [
    "import pandas as pd\n",
    "import numpy as np\n",
    "import matplotlib.pyplot as plt\n",
    "import math as math"
   ]
  },
  {
   "cell_type": "code",
   "execution_count": 2,
   "id": "730a528f",
   "metadata": {},
   "outputs": [],
   "source": [
    "cities = ['Shanghai', 'Beijing', 'Istanbul']\n",
    "population = [24_183_300, 20_794_100, 15_030_000]"
   ]
  },
  {
   "cell_type": "markdown",
   "id": "98d7c046",
   "metadata": {},
   "source": [
    "## pandas.Series(firstArg, secondArg) // positional arguments\n",
    "### firstArg is data values\n",
    "### secondArg is data index"
   ]
  },
  {
   "cell_type": "code",
   "execution_count": 3,
   "id": "69f601a1",
   "metadata": {},
   "outputs": [
    {
     "data": {
      "text/plain": [
       "Shanghai    24183300\n",
       "Beijing     20794100\n",
       "Istanbul    15030000\n",
       "dtype: int64"
      ]
     },
     "execution_count": 3,
     "metadata": {},
     "output_type": "execute_result"
    }
   ],
   "source": [
    "cityPopulationSeries = pd.Series(population, cities)\n",
    "cityPopulationSeries"
   ]
  },
  {
   "cell_type": "markdown",
   "id": "3de2ce16",
   "metadata": {},
   "source": [
    "### pandas.Series(data=ValuesArg, index=indexArg) with named arguments\n",
    "### order of the arguments doesn't matter"
   ]
  },
  {
   "cell_type": "code",
   "execution_count": 4,
   "id": "5dd2598f",
   "metadata": {},
   "outputs": [
    {
     "data": {
      "text/plain": [
       "Shanghai    24183300\n",
       "Beijing     20794100\n",
       "Istanbul    15030000\n",
       "dtype: int64"
      ]
     },
     "execution_count": 4,
     "metadata": {},
     "output_type": "execute_result"
    }
   ],
   "source": [
    "cityPopulationSeries2 = pd.Series(data=population, index=cities)\n",
    "cityPopulationSeries2"
   ]
  },
  {
   "cell_type": "markdown",
   "id": "f29831d1",
   "metadata": {},
   "source": [
    "total population in cities => sum() "
   ]
  },
  {
   "cell_type": "code",
   "execution_count": 6,
   "id": "1bdbac3d",
   "metadata": {},
   "outputs": [
    {
     "name": "stdout",
     "output_type": "stream",
     "text": [
      "Total population: 60007400\n"
     ]
    }
   ],
   "source": [
    "print(f'Total population: {cityPopulationSeries.sum()}')"
   ]
  },
  {
   "cell_type": "markdown",
   "id": "e75c3ee2",
   "metadata": {},
   "source": [
    "average population"
   ]
  },
  {
   "cell_type": "code",
   "execution_count": 9,
   "id": "0762b407",
   "metadata": {},
   "outputs": [
    {
     "name": "stdout",
     "output_type": "stream",
     "text": [
      "Average population: 20002466.666666668\n"
     ]
    }
   ],
   "source": [
    "print(f'Average population: {cityPopulationSeries.mean()}')"
   ]
  },
  {
   "cell_type": "markdown",
   "id": "f21a7eb2",
   "metadata": {},
   "source": [
    "### display indexes of the data series"
   ]
  },
  {
   "cell_type": "markdown",
   "id": "28719567",
   "metadata": {},
   "source": [
    "attributes"
   ]
  },
  {
   "cell_type": "code",
   "execution_count": 10,
   "id": "3cd43b17",
   "metadata": {},
   "outputs": [
    {
     "data": {
      "text/plain": [
       "Index(['Shanghai', 'Beijing', 'Istanbul'], dtype='object')"
      ]
     },
     "execution_count": 10,
     "metadata": {},
     "output_type": "execute_result"
    }
   ],
   "source": [
    "cityPopulationSeries.index"
   ]
  },
  {
   "cell_type": "markdown",
   "id": "bd84a79d",
   "metadata": {},
   "source": [
    "method"
   ]
  },
  {
   "cell_type": "code",
   "execution_count": 11,
   "id": "f0248e73",
   "metadata": {},
   "outputs": [
    {
     "data": {
      "text/plain": [
       "Index(['Shanghai', 'Beijing', 'Istanbul'], dtype='object')"
      ]
     },
     "execution_count": 11,
     "metadata": {},
     "output_type": "execute_result"
    }
   ],
   "source": [
    "cityPopulationSeries.keys()"
   ]
  },
  {
   "cell_type": "markdown",
   "id": "672079fd",
   "metadata": {},
   "source": [
    "### display values via series' attribute"
   ]
  },
  {
   "cell_type": "code",
   "execution_count": 12,
   "id": "d753d7fa",
   "metadata": {},
   "outputs": [
    {
     "data": {
      "text/plain": [
       "array([24183300, 20794100, 15030000])"
      ]
     },
     "execution_count": 12,
     "metadata": {},
     "output_type": "execute_result"
    }
   ],
   "source": [
    "cityPopulationSeries.values"
   ]
  },
  {
   "cell_type": "code",
   "execution_count": null,
   "id": "a54b4459",
   "metadata": {},
   "outputs": [],
   "source": []
  }
 ],
 "metadata": {
  "kernelspec": {
   "display_name": "Python 3 (ipykernel)",
   "language": "python",
   "name": "python3"
  },
  "language_info": {
   "codemirror_mode": {
    "name": "ipython",
    "version": 3
   },
   "file_extension": ".py",
   "mimetype": "text/x-python",
   "name": "python",
   "nbconvert_exporter": "python",
   "pygments_lexer": "ipython3",
   "version": "3.9.15"
  }
 },
 "nbformat": 4,
 "nbformat_minor": 5
}
