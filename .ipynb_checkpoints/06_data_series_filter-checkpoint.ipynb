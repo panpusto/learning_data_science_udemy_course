{
 "cells": [
  {
   "cell_type": "code",
   "execution_count": 1,
   "id": "17803352",
   "metadata": {},
   "outputs": [],
   "source": [
    "import pandas as pd\n",
    "import numpy as np\n",
    "import matplotlib.pyplot as plt\n",
    "import math as math"
   ]
  },
  {
   "cell_type": "code",
   "execution_count": 3,
   "id": "3a14b37d",
   "metadata": {},
   "outputs": [
    {
     "data": {
      "text/plain": [
       "to 6             14\n",
       "7-14            334\n",
       "15-17           312\n",
       "18-24          5823\n",
       "25-39          9491\n",
       "40-59          7486\n",
       "60 and more    4343\n",
       "dtype: int64"
      ]
     },
     "execution_count": 3,
     "metadata": {},
     "output_type": "execute_result"
    }
   ],
   "source": [
    "age = ['to 6', '7-14', '15-17', '18-24', '25-39', '40-59', '60 and more']\n",
    "incidents = [14, 334, 312, 5823, 9491, 7486, 4343]\n",
    "AgeIncidentsSeries = pd.Series(data=incidents, index=age)\n",
    "AgeIncidentsSeries"
   ]
  },
  {
   "cell_type": "code",
   "execution_count": 4,
   "id": "8864075a",
   "metadata": {},
   "outputs": [
    {
     "data": {
      "text/plain": [
       "to 6              NaN\n",
       "7-14              NaN\n",
       "15-17             NaN\n",
       "18-24          5823.0\n",
       "25-39          9491.0\n",
       "40-59          7486.0\n",
       "60 and more    4343.0\n",
       "dtype: float64"
      ]
     },
     "execution_count": 4,
     "metadata": {},
     "output_type": "execute_result"
    }
   ],
   "source": [
    "AgeIncidentsSeries.where(AgeIncidentsSeries > 1000)"
   ]
  },
  {
   "cell_type": "code",
   "execution_count": 5,
   "id": "2d2731db",
   "metadata": {},
   "outputs": [
    {
     "data": {
      "text/plain": [
       "18-24          5823.0\n",
       "25-39          9491.0\n",
       "40-59          7486.0\n",
       "60 and more    4343.0\n",
       "dtype: float64"
      ]
     },
     "execution_count": 5,
     "metadata": {},
     "output_type": "execute_result"
    }
   ],
   "source": [
    "AgeIncidentsSeries.where(AgeIncidentsSeries > 1000).dropna()"
   ]
  },
  {
   "cell_type": "code",
   "execution_count": 6,
   "id": "c060bdbc",
   "metadata": {},
   "outputs": [],
   "source": [
    "incident1000 = AgeIncidentsSeries.where(AgeIncidentsSeries > 1000).dropna()"
   ]
  },
  {
   "cell_type": "code",
   "execution_count": 7,
   "id": "98273629",
   "metadata": {},
   "outputs": [
    {
     "data": {
      "text/plain": [
       "18-24          5823.0\n",
       "25-39          9491.0\n",
       "40-59          7486.0\n",
       "60 and more    4343.0\n",
       "dtype: float64"
      ]
     },
     "execution_count": 7,
     "metadata": {},
     "output_type": "execute_result"
    }
   ],
   "source": [
    "incident1000"
   ]
  },
  {
   "cell_type": "code",
   "execution_count": 8,
   "id": "90c0efab",
   "metadata": {},
   "outputs": [
    {
     "data": {
      "text/plain": [
       "to 6             14\n",
       "7-14            334\n",
       "15-17           312\n",
       "18-24          5823\n",
       "25-39          9491\n",
       "40-59          7486\n",
       "60 and more    4343\n",
       "dtype: int64"
      ]
     },
     "execution_count": 8,
     "metadata": {},
     "output_type": "execute_result"
    }
   ],
   "source": [
    "AgeIncidentsSeries"
   ]
  },
  {
   "cell_type": "code",
   "execution_count": 9,
   "id": "f5913822",
   "metadata": {},
   "outputs": [
    {
     "data": {
      "text/plain": [
       "18-24    5823\n",
       "25-39    9491\n",
       "40-59    7486\n",
       "dtype: int64"
      ]
     },
     "execution_count": 9,
     "metadata": {},
     "output_type": "execute_result"
    }
   ],
   "source": [
    "AgeIncidentsSeries.filter(items=['18-24', '25-39', '40-59'])"
   ]
  },
  {
   "cell_type": "code",
   "execution_count": 10,
   "id": "a313f07b",
   "metadata": {},
   "outputs": [],
   "source": [
    "AgeIncidentsSeries.where(AgeIncidentsSeries <= 1000, inplace=True)\n",
    "AgeIncidentsSeries.dropna(inplace=True)"
   ]
  },
  {
   "cell_type": "code",
   "execution_count": 11,
   "id": "99c4302a",
   "metadata": {},
   "outputs": [
    {
     "data": {
      "text/plain": [
       "to 6      14.0\n",
       "7-14     334.0\n",
       "15-17    312.0\n",
       "dtype: float64"
      ]
     },
     "execution_count": 11,
     "metadata": {},
     "output_type": "execute_result"
    }
   ],
   "source": [
    "AgeIncidentsSeries"
   ]
  },
  {
   "cell_type": "code",
   "execution_count": null,
   "id": "da496d5f",
   "metadata": {},
   "outputs": [],
   "source": []
  }
 ],
 "metadata": {
  "kernelspec": {
   "display_name": "Python 3 (ipykernel)",
   "language": "python",
   "name": "python3"
  },
  "language_info": {
   "codemirror_mode": {
    "name": "ipython",
    "version": 3
   },
   "file_extension": ".py",
   "mimetype": "text/x-python",
   "name": "python",
   "nbconvert_exporter": "python",
   "pygments_lexer": "ipython3",
   "version": "3.9.15"
  }
 },
 "nbformat": 4,
 "nbformat_minor": 5
}
