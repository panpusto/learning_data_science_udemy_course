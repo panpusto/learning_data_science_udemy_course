{
 "cells": [
  {
   "cell_type": "code",
   "execution_count": 1,
   "id": "772b1f0d-3b0f-48f6-b438-481ea058c018",
   "metadata": {},
   "outputs": [
    {
     "name": "stdout",
     "output_type": "stream",
     "text": [
      "10840\n"
     ]
    }
   ],
   "source": [
    "from datetime import datetime\n",
    "\n",
    "birthday = datetime(1993, 3, 18, 0, 0, 0)\n",
    "\n",
    "diff = datetime.today() - birthday\n",
    "\n",
    "print(diff.days)"
   ]
  },
  {
   "cell_type": "code",
   "execution_count": null,
   "id": "c03a2f1e-1485-4741-ba8f-d4b4bb3b8808",
   "metadata": {},
   "outputs": [],
   "source": []
  }
 ],
 "metadata": {
  "kernelspec": {
   "display_name": "Python 3 (ipykernel)",
   "language": "python",
   "name": "python3"
  },
  "language_info": {
   "codemirror_mode": {
    "name": "ipython",
    "version": 3
   },
   "file_extension": ".py",
   "mimetype": "text/x-python",
   "name": "python",
   "nbconvert_exporter": "python",
   "pygments_lexer": "ipython3",
   "version": "3.9.13"
  }
 },
 "nbformat": 4,
 "nbformat_minor": 5
}
