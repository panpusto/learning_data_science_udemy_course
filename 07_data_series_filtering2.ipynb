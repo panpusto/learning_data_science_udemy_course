{
 "cells": [
  {
   "cell_type": "code",
   "execution_count": 1,
   "id": "a67ec323",
   "metadata": {},
   "outputs": [],
   "source": [
    "import pandas as pd\n",
    "import numpy as np\n",
    "import matplotlib.pyplot as plt\n",
    "import math as math"
   ]
  },
  {
   "cell_type": "code",
   "execution_count": 2,
   "id": "151cad07",
   "metadata": {},
   "outputs": [],
   "source": [
    "nameList = ['Albania','Austria','Belarus', 'Belgium','Bulgaria','Croatia','Cyprus',\n",
    "            'Czech Republic','Denmark','Estonia', 'Finland','France','Germany',\n",
    "            'Greece','Hungary','Iceland','Ireland','Italy', 'Latvia','Lithuania',\n",
    "            'Luxembourg','Macedonia','Malta','Montenegro','Netherlands', 'Norway',\n",
    "            'Poland','Portugal','Romania','Russia','Serbia','Slovenia','Spain',\n",
    "            'Sweden','Switzerland','United Kingdom','Turkey','Ukraine']\n",
    "energy2010List = [1947, 8347, 3564, 8369, 4560, 3814, 4623, 6348, 6328, 6506, 16483,\n",
    "                  7736, 7264, 5318, 3876, 51440, 5911, 5494, 3230, 3471, 16830, 3521,\n",
    "                  4171, 5420, 7010, 24891, 3797, 4959, 2551, 6410, 4359, 6521, 5707, \n",
    "                  14934, 8175, 2498, 3550, 5701]\n",
    "energy2012List = [2118, 8507, 3698, 7987, 4762, 3819, 4057, 6305, 6039, 6689, 15687, \n",
    "                  7344, 7270, 5511, 3919, 53203, 5665, 5398, 3588, 3608, 14696, 3626,\n",
    "                  4761, 5416, 6871, 23658, 3899, 4736, 2604, 6617, 4387, 6778, 5573,\n",
    "                  14290, 7886, 2794, 3641, 5452]"
   ]
  },
  {
   "cell_type": "code",
   "execution_count": 3,
   "id": "c7818c21",
   "metadata": {},
   "outputs": [],
   "source": [
    "nameSeries = pd.Series(nameList)\n",
    "energy2010Series = pd.Series(energy2010List)\n",
    "energy2012Series = pd.Series(energy2012List)"
   ]
  },
  {
   "cell_type": "code",
   "execution_count": 4,
   "id": "c2a61f7f",
   "metadata": {
    "collapsed": true
   },
   "outputs": [
    {
     "data": {
      "text/plain": [
       "0            Albania\n",
       "1            Austria\n",
       "2            Belarus\n",
       "3            Belgium\n",
       "4           Bulgaria\n",
       "5            Croatia\n",
       "6             Cyprus\n",
       "7     Czech Republic\n",
       "8            Denmark\n",
       "9            Estonia\n",
       "10           Finland\n",
       "11            France\n",
       "12           Germany\n",
       "13            Greece\n",
       "14           Hungary\n",
       "15           Iceland\n",
       "16           Ireland\n",
       "17             Italy\n",
       "18            Latvia\n",
       "19         Lithuania\n",
       "20        Luxembourg\n",
       "21         Macedonia\n",
       "22             Malta\n",
       "23        Montenegro\n",
       "24       Netherlands\n",
       "25            Norway\n",
       "26            Poland\n",
       "27          Portugal\n",
       "28           Romania\n",
       "29            Russia\n",
       "30            Serbia\n",
       "31          Slovenia\n",
       "32             Spain\n",
       "33            Sweden\n",
       "34       Switzerland\n",
       "35    United Kingdom\n",
       "36            Turkey\n",
       "37           Ukraine\n",
       "dtype: object"
      ]
     },
     "execution_count": 4,
     "metadata": {},
     "output_type": "execute_result"
    }
   ],
   "source": [
    "nameSeries"
   ]
  },
  {
   "cell_type": "code",
   "execution_count": 5,
   "id": "add5222f",
   "metadata": {
    "collapsed": true
   },
   "outputs": [
    {
     "data": {
      "text/plain": [
       "0      1947\n",
       "1      8347\n",
       "2      3564\n",
       "3      8369\n",
       "4      4560\n",
       "5      3814\n",
       "6      4623\n",
       "7      6348\n",
       "8      6328\n",
       "9      6506\n",
       "10    16483\n",
       "11     7736\n",
       "12     7264\n",
       "13     5318\n",
       "14     3876\n",
       "15    51440\n",
       "16     5911\n",
       "17     5494\n",
       "18     3230\n",
       "19     3471\n",
       "20    16830\n",
       "21     3521\n",
       "22     4171\n",
       "23     5420\n",
       "24     7010\n",
       "25    24891\n",
       "26     3797\n",
       "27     4959\n",
       "28     2551\n",
       "29     6410\n",
       "30     4359\n",
       "31     6521\n",
       "32     5707\n",
       "33    14934\n",
       "34     8175\n",
       "35     2498\n",
       "36     3550\n",
       "37     5701\n",
       "dtype: int64"
      ]
     },
     "execution_count": 5,
     "metadata": {},
     "output_type": "execute_result"
    }
   ],
   "source": [
    "energy2010Series"
   ]
  },
  {
   "cell_type": "code",
   "execution_count": 6,
   "id": "55f35a5e",
   "metadata": {
    "collapsed": true
   },
   "outputs": [
    {
     "data": {
      "text/plain": [
       "0      2118\n",
       "1      8507\n",
       "2      3698\n",
       "3      7987\n",
       "4      4762\n",
       "5      3819\n",
       "6      4057\n",
       "7      6305\n",
       "8      6039\n",
       "9      6689\n",
       "10    15687\n",
       "11     7344\n",
       "12     7270\n",
       "13     5511\n",
       "14     3919\n",
       "15    53203\n",
       "16     5665\n",
       "17     5398\n",
       "18     3588\n",
       "19     3608\n",
       "20    14696\n",
       "21     3626\n",
       "22     4761\n",
       "23     5416\n",
       "24     6871\n",
       "25    23658\n",
       "26     3899\n",
       "27     4736\n",
       "28     2604\n",
       "29     6617\n",
       "30     4387\n",
       "31     6778\n",
       "32     5573\n",
       "33    14290\n",
       "34     7886\n",
       "35     2794\n",
       "36     3641\n",
       "37     5452\n",
       "dtype: int64"
      ]
     },
     "execution_count": 6,
     "metadata": {},
     "output_type": "execute_result"
    }
   ],
   "source": [
    "energy2012Series"
   ]
  },
  {
   "cell_type": "markdown",
   "id": "5a6d8a83",
   "metadata": {},
   "source": [
    "### average energy consumption in Europe in 2010"
   ]
  },
  {
   "cell_type": "code",
   "execution_count": 8,
   "id": "f1c2c0a6",
   "metadata": {},
   "outputs": [
    {
     "name": "stdout",
     "output_type": "stream",
     "text": [
      "Average energy consumption in Europe in 2010: 7779.8421052631575\n"
     ]
    }
   ],
   "source": [
    "mean2010 = energy2010Series.mean()\n",
    "print(f'Average energy consumption in Europe in 2010: {mean2010}')"
   ]
  },
  {
   "cell_type": "markdown",
   "id": "0a4d553c",
   "metadata": {},
   "source": [
    "### average energy consumption in Europe in 2012"
   ]
  },
  {
   "cell_type": "code",
   "execution_count": 9,
   "id": "513f6c6c",
   "metadata": {},
   "outputs": [
    {
     "name": "stdout",
     "output_type": "stream",
     "text": [
      "Average energy consumption in Europe in 2012: 7706.815789473684\n"
     ]
    }
   ],
   "source": [
    "mean2012 = energy2012Series.mean()\n",
    "print(f'Average energy consumption in Europe in 2012: {mean2012}')"
   ]
  },
  {
   "cell_type": "markdown",
   "id": "53967f46",
   "metadata": {},
   "source": [
    "### filter values above mean"
   ]
  },
  {
   "cell_type": "code",
   "execution_count": 10,
   "id": "c17b277a",
   "metadata": {},
   "outputs": [],
   "source": [
    "filterAboveMean2010 = energy2010Series > mean2010"
   ]
  },
  {
   "cell_type": "code",
   "execution_count": 11,
   "id": "3961bade",
   "metadata": {},
   "outputs": [],
   "source": [
    "filterAboveMean2012 = energy2012Series > mean2012"
   ]
  },
  {
   "cell_type": "markdown",
   "id": "a04d674a",
   "metadata": {},
   "source": [
    "### countries with higher than average energy consumption in 2010 and 2012"
   ]
  },
  {
   "cell_type": "code",
   "execution_count": 12,
   "id": "dad18b8e",
   "metadata": {
    "collapsed": true
   },
   "outputs": [
    {
     "data": {
      "text/plain": [
       "1         Austria\n",
       "3         Belgium\n",
       "10        Finland\n",
       "15        Iceland\n",
       "20     Luxembourg\n",
       "25         Norway\n",
       "33         Sweden\n",
       "34    Switzerland\n",
       "dtype: object"
      ]
     },
     "execution_count": 12,
     "metadata": {},
     "output_type": "execute_result"
    }
   ],
   "source": [
    "nameSeries.where(filterAboveMean2010 & filterAboveMean2012).dropna()"
   ]
  },
  {
   "cell_type": "markdown",
   "id": "48179d83",
   "metadata": {},
   "source": [
    "### filter values below mean"
   ]
  },
  {
   "cell_type": "code",
   "execution_count": 13,
   "id": "7aa7f1fa",
   "metadata": {},
   "outputs": [],
   "source": [
    "filterBelowMean2010 = energy2010Series < mean2010"
   ]
  },
  {
   "cell_type": "markdown",
   "id": "f96aa171",
   "metadata": {},
   "source": [
    "### countries with lower  than average energy consumption in 2010"
   ]
  },
  {
   "cell_type": "code",
   "execution_count": 14,
   "id": "d2aa5f73",
   "metadata": {
    "collapsed": true
   },
   "outputs": [
    {
     "data": {
      "text/plain": [
       "0            Albania\n",
       "2            Belarus\n",
       "4           Bulgaria\n",
       "5            Croatia\n",
       "6             Cyprus\n",
       "7     Czech Republic\n",
       "8            Denmark\n",
       "9            Estonia\n",
       "11            France\n",
       "12           Germany\n",
       "13            Greece\n",
       "14           Hungary\n",
       "16           Ireland\n",
       "17             Italy\n",
       "18            Latvia\n",
       "19         Lithuania\n",
       "21         Macedonia\n",
       "22             Malta\n",
       "23        Montenegro\n",
       "24       Netherlands\n",
       "26            Poland\n",
       "27          Portugal\n",
       "28           Romania\n",
       "29            Russia\n",
       "30            Serbia\n",
       "31          Slovenia\n",
       "32             Spain\n",
       "35    United Kingdom\n",
       "36            Turkey\n",
       "37           Ukraine\n",
       "dtype: object"
      ]
     },
     "execution_count": 14,
     "metadata": {},
     "output_type": "execute_result"
    }
   ],
   "source": [
    "nameSeries.where(filterBelowMean2010).dropna()"
   ]
  },
  {
   "cell_type": "markdown",
   "id": "018fb191",
   "metadata": {},
   "source": [
    "### countries with lower than average consumption in 2010 and higher in 2012"
   ]
  },
  {
   "cell_type": "code",
   "execution_count": 15,
   "id": "e16f7281",
   "metadata": {},
   "outputs": [
    {
     "data": {
      "text/plain": [
       "Series([], dtype: object)"
      ]
     },
     "execution_count": 15,
     "metadata": {},
     "output_type": "execute_result"
    }
   ],
   "source": [
    "nameSeries.where(filterBelowMean2010 & filterAboveMean2012).dropna()"
   ]
  },
  {
   "cell_type": "markdown",
   "id": "3abbfecf",
   "metadata": {},
   "source": [
    "**Conclusion:** countries where energy(electricity) consumption was high in 2010 still remained high in 2012. Developed countries still needs more and more energy. "
   ]
  },
  {
   "cell_type": "code",
   "execution_count": null,
   "id": "25172ca9",
   "metadata": {},
   "outputs": [],
   "source": []
  }
 ],
 "metadata": {
  "kernelspec": {
   "display_name": "Python 3 (ipykernel)",
   "language": "python",
   "name": "python3"
  },
  "language_info": {
   "codemirror_mode": {
    "name": "ipython",
    "version": 3
   },
   "file_extension": ".py",
   "mimetype": "text/x-python",
   "name": "python",
   "nbconvert_exporter": "python",
   "pygments_lexer": "ipython3",
   "version": "3.9.15"
  }
 },
 "nbformat": 4,
 "nbformat_minor": 5
}
